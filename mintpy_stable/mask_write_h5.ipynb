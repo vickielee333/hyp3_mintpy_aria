{
 "cells": [
  {
   "cell_type": "code",
   "execution_count": 10,
   "id": "306ce76d-3173-4f81-a114-7e03c842a42a",
   "metadata": {},
   "outputs": [
    {
     "name": "stdout",
     "output_type": "stream",
     "text": [
      "UTM coordinates detected, convert UTM into lat/lon\n"
     ]
    }
   ],
   "source": [
    "# https://nbviewer.org/github/insarlab/MintPy-tutorial/blob/main/io/save_text.ipynb\n",
    "# https://github.com/insarlab/MintPy/blob/main/docs/api/data_structure.md\n",
    "\n",
    "import os\n",
    "import numpy as np\n",
    "import matplotlib.pyplot as plt\n",
    "from mintpy.utils import readfile, utils as ut\n",
    "\n",
    "#import os\n",
    "#os.chdir('/home/jovyan/SF_TS/Hyp3_115_467/CA_115_467/data')\n",
    "\n",
    "#ts_file = 'timeseries_ERA5_demErr.h5';  date1, date2 = '20160101', '20171022'\n",
    "vel_file = 'velocity_09.h5'\n",
    "mask_file = 'maskTempCoh.h5'\n",
    "\n",
    "dis, atr = readfile.read(vel_file)\n",
    "lat, lon = ut.get_lat_lon(atr)\n",
    "mask = readfile.read(mask_file)[0]\n",
    "dis[mask == 0] = np.nan\n",
    "lat[mask == 0] = np.nan\n",
    "lon[mask == 0] = np.nan\n",
    "\n",
    "out_file = os.path.abspath('vel_disp_09.txt')\n",
    "\n",
    "data = np.hstack((\n",
    "    lat[mask].reshape(-1, 1),\n",
    "    lon[mask].reshape(-1, 1),\n",
    "    dis[mask].reshape(-1, 1),\n",
    "))\n",
    "\n",
    "np.savetxt(out_file, data, fmt='%10.6f', delimiter='\\t')"
   ]
  },
  {
   "cell_type": "code",
   "execution_count": 2,
   "id": "df57d94e-4bf9-46df-adb9-285eb05ab14a",
   "metadata": {},
   "outputs": [
    {
     "name": "stdout",
     "output_type": "stream",
     "text": [
      "usage: mask.py [-h] -m MASK_FILE [-o OUTFILE] [--vmin MASK_VMIN]\n",
      "               [--vmax MASK_VMAX] [-x SUBSET_X SUBSET_X]\n",
      "               [-y SUBSET_Y SUBSET_Y] [--fill FILL_VALUE]\n",
      "               file\n",
      "\n",
      "Mask file\n",
      "\n",
      "positional arguments:\n",
      "  file                  File to be masked\n",
      "\n",
      "options:\n",
      "  -h, --help            show this help message and exit\n",
      "  -m MASK_FILE, --mask MASK_FILE\n",
      "                        mask out pixels with mask value == 0.\n",
      "  -o OUTFILE, --outfile OUTFILE\n",
      "                        Output file name.\n",
      "  --vmin MASK_VMIN, --mask-vmin MASK_VMIN\n",
      "                        mask out pixels with mask value < vmin.\n",
      "  --vmax MASK_VMAX, --mask-vmax MASK_VMAX\n",
      "                        mask out pixels with mask value > vmax.\n",
      "  -x SUBSET_X SUBSET_X  subset range in x/cross-track/column direction\n",
      "  -y SUBSET_Y SUBSET_Y  subset range in y/along-track/row direction\n",
      "  --fill FILL_VALUE     fill masked out area with input value. i.e. \n",
      "                        np.nan (default), 0, 1000, ... \n",
      "                        If np.nan and input data matrix is not float/complex, convert matrix data type to np.float32.\n",
      "\n",
      "example:\n",
      "  mask.py  velocity.h5     -m maskTempCoh.h5\n",
      "  mask.py  timeseries.h5   -m temporalCoherence.h5  --vmin 0.7\n",
      "  mask.py  ifgramStack.h5  -m 100102_101120.cor     --vmin 0.9  -y  200 300  -x 300 400\n",
      "\n",
      "  mask.py  filt_20060924_20090214.int -m waterMask.h5 -o filt_20060924_20090214_msk.int\n",
      "  mask.py  filt_20060924_20090214.cor -m waterMask.h5 -o filt_20060924_20090214_msk.cor\n"
     ]
    }
   ],
   "source": [
    "!mask.py -h"
   ]
  },
  {
   "cell_type": "code",
   "execution_count": 9,
   "id": "58007ac2-f80e-4dda-be1c-56e83dec54ea",
   "metadata": {},
   "outputs": [
    {
     "name": "stdout",
     "output_type": "stream",
     "text": [
      "mask out pixels with value < 0.9 in mask file\n",
      "masking velocity     from velocity.h5 ...\n",
      "masking velocityStd  from velocity.h5 ...\n",
      "masking intercept    from velocity.h5 ...\n",
      "masking interceptStd from velocity.h5 ...\n",
      "masking residue      from velocity.h5 ...\n",
      "create HDF5 file: velocity_09.h5 with w mode\n",
      "create dataset /velocity     of float32    in size of (2835, 2735)         with compression=None\n",
      "create dataset /velocityStd  of float32    in size of (2835, 2735)         with compression=None\n",
      "create dataset /intercept    of float32    in size of (2835, 2735)         with compression=None\n",
      "create dataset /interceptStd of float32    in size of (2835, 2735)         with compression=None\n",
      "create dataset /residue      of float32    in size of (2835, 2735)         with compression=None\n",
      "finished writing to velocity_09.h5\n"
     ]
    }
   ],
   "source": [
    "!mask.py velocity.h5 -m temporalCoherence.h5 --vmin 0.9 -o velocity_09.h5"
   ]
  },
  {
   "cell_type": "code",
   "execution_count": null,
   "id": "4ad63e1a-0f0c-4237-8ec9-c39e7f9c7cbd",
   "metadata": {},
   "outputs": [],
   "source": []
  }
 ],
 "metadata": {
  "kernelspec": {
   "display_name": "hyp3-mintpy",
   "language": "python",
   "name": "hyp3-mintpy"
  },
  "language_info": {
   "codemirror_mode": {
    "name": "ipython",
    "version": 3
   },
   "file_extension": ".py",
   "mimetype": "text/x-python",
   "name": "python",
   "nbconvert_exporter": "python",
   "pygments_lexer": "ipython3",
   "version": "3.10.13"
  }
 },
 "nbformat": 4,
 "nbformat_minor": 5
}
