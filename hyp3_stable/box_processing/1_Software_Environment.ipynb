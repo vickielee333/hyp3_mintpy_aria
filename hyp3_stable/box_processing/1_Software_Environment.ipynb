{
 "cells": [
  {
   "cell_type": "markdown",
   "id": "d3a54adc-b482-4557-93a6-707a69bc3118",
   "metadata": {},
   "source": [
    "# Install Required Software with Conda\n",
    "\n",
    "*Author: Alex Lewandowski; Alaska Satellite Facility*\n",
    "\n",
    "Installs the `opensarlab_mintpy_recipe_book` conda environment, which is used by all other notebooks in this Jupyter Book.\n",
    "\n",
    "---\n",
    "## 0. Import Required Software"
   ]
  },
  {
   "cell_type": "code",
   "execution_count": 1,
   "id": "1c5e8edc-51ce-4c7b-9c5b-777f47d828e4",
   "metadata": {},
   "outputs": [],
   "source": [
    "from pathlib import Path\n",
    "import yaml"
   ]
  },
  {
   "cell_type": "markdown",
   "id": "d3876ecc-f409-4709-809c-9a84e871729e",
   "metadata": {},
   "source": [
    "---\n",
    "## 1. Build the `opensarlab_mintpy_recipe_book` Conda Environment\n",
    "\n",
    "*Note: We use a conda environment config with all packages pinned for stability: `environment_locked.yaml'*\n",
    "\n",
    "*There is an unpinned `environment.yaml` provided, but it may not remain stable with dependency updates, which can occur any time*"
   ]
  },
  {
   "cell_type": "code",
   "execution_count": 2,
   "id": "6cd8b5d4-fa91-4b04-83ed-f00f0cb3f190",
   "metadata": {},
   "outputs": [
    {
     "name": "stdout",
     "output_type": "stream",
     "text": [
      "environment_locked.yaml path: /home/jovyan/test_MintPy_OpenSARLab/opensarlab_MintPy_Recipe_Book/environment_locked.yaml\n",
      "environment name: opensarlab_mintpy_recipe_book\n"
     ]
    }
   ],
   "source": [
    "yaml_name = \"environment_locked.yaml\"\n",
    "\n",
    "# uncomment to build the unlocked version of the environment\n",
    "# yaml_name = \"environment.yaml\"\n",
    "\n",
    "conda_yaml_pth = list(Path.cwd().glob(yaml_name))[0]\n",
    "with open(conda_yaml_pth, 'r') as f:\n",
    "    try:\n",
    "        env = yaml.safe_load(f)\n",
    "        env_name = env['name']\n",
    "    except yaml.YAMLError:\n",
    "        raise\n",
    "print(f'environment_locked.yaml path: {conda_yaml_pth}')\n",
    "print(f'environment name: {env_name}')"
   ]
  },
  {
   "cell_type": "code",
   "execution_count": 3,
   "id": "bc5b7965-e4ad-4406-b292-af1038f19e8e",
   "metadata": {},
   "outputs": [
    {
     "name": "stdout",
     "output_type": "stream",
     "text": [
      "Retrieving notices: ...working... done\n",
      "Preparing transaction: ...working... done\n",
      "Verifying transaction: ...working... done\n",
      "Executing transaction: ...working... done\n",
      "Installing pip dependencies: ...working... done\n",
      "Cloning into '/home/jovyan/.local/ARIA-tools'...\n",
      "remote: Enumerating objects: 4289, done.\u001b[K\n",
      "remote: Counting objects: 100% (2428/2428), done.\u001b[K\n",
      "remote: Compressing objects: 100% (553/553), done.\u001b[K\n",
      "remote: Total 4289 (delta 1971), reused 2222 (delta 1846), pack-reused 1861\u001b[K\n",
      "Receiving objects: 100% (4289/4289), 11.55 MiB | 9.91 MiB/s, done.\n",
      "Resolving deltas: 100% (3032/3032), done.\n",
      "ARIA-tools v1.1.2-1 2021-07-29\n",
      "Installing ARIA-tools without support for RelaxIV\n",
      "\n",
      "/home/jovyan/.local/envs/opensarlab_mintpy_recipe_book/lib/python3.9/site-packages/setuptools/dist.py:318: InformationOnly: Normalizing 'v1.1.2' to '1.1.2'\n",
      "  self.metadata.version = self._normalize_version(self.metadata.version)\n",
      "\n",
      "ARIA-tools v1.1.2-1 2021-07-29\n",
      "Installing ARIA-tools without support for RelaxIV\n",
      "\n",
      "/home/jovyan/.local/envs/opensarlab_mintpy_recipe_book/lib/python3.9/site-packages/setuptools/dist.py:318: InformationOnly: Normalizing 'v1.1.2' to '1.1.2'\n",
      "  self.metadata.version = self._normalize_version(self.metadata.version)\n",
      "/home/jovyan/.local/envs/opensarlab_mintpy_recipe_book/lib/python3.9/site-packages/setuptools/_distutils/cmd.py:66: SetuptoolsDeprecationWarning: setup.py install is deprecated.\n",
      "!!\n",
      "\n",
      "        ********************************************************************************\n",
      "        Please avoid running ``setup.py`` directly.\n",
      "        Instead, use pypa/build, pypa/installer or other\n",
      "        standards-based tools.\n",
      "\n",
      "        See https://blog.ganssle.io/articles/2021/10/setup-py-deprecated.html for details.\n",
      "        ********************************************************************************\n",
      "\n",
      "!!\n",
      "  self.initialize_options()\n",
      "/home/jovyan/.local/envs/opensarlab_mintpy_recipe_book/lib/python3.9/site-packages/setuptools/_distutils/cmd.py:66: EasyInstallDeprecationWarning: easy_install command is deprecated.\n",
      "!!\n",
      "\n",
      "        ********************************************************************************\n",
      "        Please avoid running ``setup.py`` and ``easy_install``.\n",
      "        Instead, use pypa/build, pypa/installer or other\n",
      "        standards-based tools.\n",
      "\n",
      "        See https://github.com/pypa/setuptools/issues/917 for details.\n",
      "        ********************************************************************************\n",
      "\n",
      "!!\n",
      "  self.initialize_options()\n",
      "zip_safe flag not set; analyzing archive contents...\n",
      "\n",
      "Cloning into '/home/jovyan/ARIA-tools-docs'...\n",
      "remote: Enumerating objects: 87, done.\u001b[K\n",
      "remote: Counting objects: 100% (87/87), done.\u001b[K\n",
      "remote: Compressing objects: 100% (81/81), done.\u001b[K\n",
      "remote: Total 87 (delta 1), reused 81 (delta 1), pack-reused 0\u001b[K\n",
      "Receiving objects: 100% (87/87), 55.45 MiB | 44.96 MiB/s, done.\n",
      "Resolving deltas: 100% (1/1), done.\n",
      "Installed kernelspec opensarlab_mintpy_recipe_book in /home/jovyan/.local/envs/opensarlab_mintpy_recipe_book/share/jupyter/kernels/opensarlab_mintpy_recipe_book\n"
     ]
    }
   ],
   "source": [
    "# If running outside of OpenSARLab, update conda_prefix \n",
    "# to the path of your system's conda envs directory\n",
    "conda_prefix = Path.home()/f\".local/envs/{env_name}\"\n",
    "\n",
    "# Create the environment\n",
    "!mamba env create -f {conda_yaml_pth} --prefix {conda_prefix} --no-default-packages -q --force\n",
    "\n",
    "# Run the script to install ARIA-Tools\n",
    "!source \"opensarlab_mintpy_recipe_book_env.sh\" {str(conda_prefix.parents[1])}\n",
    "\n",
    "!{conda_prefix}/bin/python -m ipykernel install --prefix {conda_prefix} --name {env_name}"
   ]
  },
  {
   "cell_type": "code",
   "execution_count": null,
   "id": "a4835363-0adb-4afa-b7b4-32b5778c0665",
   "metadata": {},
   "outputs": [],
   "source": []
  }
 ],
 "metadata": {
  "kernelspec": {
   "display_name": "Python [conda env:.local-opensarlab_mintpy_recipe_book]",
   "language": "python",
   "name": "conda-env-.local-opensarlab_mintpy_recipe_book-py"
  },
  "language_info": {
   "codemirror_mode": {
    "name": "ipython",
    "version": 3
   },
   "file_extension": ".py",
   "mimetype": "text/x-python",
   "name": "python",
   "nbconvert_exporter": "python",
   "pygments_lexer": "ipython3",
   "version": "3.9.0"
  }
 },
 "nbformat": 4,
 "nbformat_minor": 5
}
