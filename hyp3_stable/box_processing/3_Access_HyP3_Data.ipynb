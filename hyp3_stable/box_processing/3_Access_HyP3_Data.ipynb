{
 "cells": [
  {
   "cell_type": "markdown",
   "id": "ca471365-111f-4b70-8911-8d282003db90",
   "metadata": {},
   "source": [
    "# Access & Subset HyP3 SBAS Stack (InSAR or Burst-InSAR)\n",
    "\n",
    "*Author: Alex Lewandowski; Alaska Satellite Facility*\n",
    "\n",
    "This notebook assumes that you have already ordered processing for an InSAR Short Baseline Subset (SBAS) stack using [ASF HyP3](https://hyp3-docs.asf.alaska.edu/), available in a web browser at [ASF Vertex](https://search.asf.alaska.edu/) or programmatically with [hyp3-sdk](https://github.com/ASFHyP3/hyp3-sdk).\n",
    "\n",
    "---\n",
    "## 0. Import Required Software "
   ]
  },
  {
   "cell_type": "code",
   "execution_count": 1,
   "id": "98210e5a-6f29-4a48-9021-18080b1a5761",
   "metadata": {},
   "outputs": [],
   "source": [
    "from pathlib import Path\n",
    "import sys\n",
    "from tqdm.auto import tqdm\n",
    "\n",
    "from hyp3_sdk import Batch, HyP3\n",
    "from ipyfilechooser import FileChooser\n",
    "from IPython.display import Markdown, display\n",
    "import numpy as np\n",
    "import opensarlab_lib as osl\n",
    "from osgeo import gdal\n",
    "gdal.UseExceptions()\n",
    "from rasterio.warp import transform_bounds\n",
    "\n",
    "current = Path(\"..\").resolve()\n",
    "sys.path.append(str(current))\n",
    "import util.util as util\n",
    "\n",
    "%matplotlib widget"
   ]
  },
  {
   "cell_type": "markdown",
   "id": "4453ed21-0573-4764-b53d-fe6c656be756",
   "metadata": {},
   "source": [
    "---\n",
    "\n",
    "## 1. Select or create a working directory for the analysis"
   ]
  },
  {
   "cell_type": "code",
   "execution_count": 2,
   "id": "d09e7a9e-3073-4c43-b2f1-9d5c75d407c7",
   "metadata": {},
   "outputs": [
    {
     "data": {
      "application/vnd.jupyter.widget-view+json": {
       "model_id": "18e8a611ce704972bb3a5479dd7ffe40",
       "version_major": 2,
       "version_minor": 0
      },
      "text/plain": [
       "RadioButtons(layout=Layout(min_width='800px'), options=('Access a new SBAS stack', 'Add to existing SBAS stack…"
      ]
     },
     "metadata": {},
     "output_type": "display_data"
    }
   ],
   "source": [
    "age = osl.select_parameter(\n",
    "    [\n",
    "        \"Access a new SBAS stack\",\n",
    "        \"Add to existing SBAS stack\"\n",
    "    ]\n",
    ")\n",
    "display(age)"
   ]
  },
  {
   "cell_type": "code",
   "execution_count": 3,
   "id": "cc504661-8853-4904-8f86-0c87d950bfd7",
   "metadata": {},
   "outputs": [
    {
     "name": "stdout",
     "output_type": "stream",
     "text": [
      "Current working directory: /home/jovyan/test_MintPy_OpenSARLab/LA2\n",
      "Create a new directory to hold your data:\n"
     ]
    },
    {
     "name": "stdin",
     "output_type": "stream",
     "text": [
      "Enter an unused path for a new data directory:  /home/jovyan/ la2_test\n"
     ]
    }
   ],
   "source": [
    "new = 'new' in age.value\n",
    "\n",
    "if new:\n",
    "    print(f'Current working directory: {Path.cwd()}')\n",
    "    print('Create a new directory to hold your data:')\n",
    "    data_path = input(f'Enter an unused path for a new data directory:  {Path.home()}/')\n",
    "    try:\n",
    "        data_path = Path.home() / data_path.strip()\n",
    "        data_path.mkdir()\n",
    "    except:\n",
    "        raise\n",
    "else:\n",
    "    path = Path.home()\n",
    "    fc = FileChooser(path)\n",
    "    display(fc)"
   ]
  },
  {
   "cell_type": "code",
   "execution_count": 4,
   "id": "c6168373-7bc7-4f26-91cd-e27d77672ffd",
   "metadata": {},
   "outputs": [],
   "source": [
    "if not new:\n",
    "    data_path = Path.home()/fc.selected_path"
   ]
  },
  {
   "cell_type": "markdown",
   "id": "3ec94add-ab46-42a2-b784-a0a90851b779",
   "metadata": {},
   "source": [
    "---\n",
    "\n",
    "## 2. Migrate SBAS Stack from HyP3\n",
    "\n",
    "**Create a HyP3 object and authenticate**"
   ]
  },
  {
   "cell_type": "code",
   "execution_count": 5,
   "id": "c012ca68-6c09-46c5-94b8-32c7a633229f",
   "metadata": {},
   "outputs": [
    {
     "name": "stdin",
     "output_type": "stream",
     "text": [
      "NASA Earthdata Login username:  vickielee333\n",
      "NASA Earthdata Login password:  ········\n"
     ]
    }
   ],
   "source": [
    "hyp3 = HyP3(prompt=True)"
   ]
  },
  {
   "cell_type": "markdown",
   "id": "ad54c61e-fe22-4b7e-8138-8950e1b7a29c",
   "metadata": {},
   "source": [
    "**You may search for InSAR projects in your own account or migrate data from any user's account**\n",
    "\n",
    "- Retrieving data from another user's account only requires their username and the project name.\n",
    "- It does **not** require the other user's password. "
   ]
  },
  {
   "cell_type": "code",
   "execution_count": 6,
   "id": "ef02d298-9f0b-4406-b960-ae53a3d6a5f2",
   "metadata": {},
   "outputs": [
    {
     "data": {
      "application/vnd.jupyter.widget-view+json": {
       "model_id": "a2b92ad5c9714b1b859b7c29ec01b4b4",
       "version_major": 2,
       "version_minor": 0
      },
      "text/plain": [
       "RadioButtons(layout=Layout(min_width='800px'), options=('Access InSAR data with any valid HyP3 username and Hy…"
      ]
     },
     "metadata": {},
     "output_type": "display_data"
    }
   ],
   "source": [
    "hyp3_project = osl.select_parameter(\n",
    "    [\n",
    "        'Access InSAR data with any valid HyP3 username and HyP3 Project Name',\n",
    "        'Search your Projects for available InSAR data'\n",
    "    ]\n",
    ")\n",
    "display(hyp3_project)"
   ]
  },
  {
   "cell_type": "markdown",
   "id": "666b8617-4195-4d48-bad4-3dd8e4272212",
   "metadata": {},
   "source": [
    "**Select your SBAS stack's HyP3 product type**"
   ]
  },
  {
   "cell_type": "code",
   "execution_count": 7,
   "id": "e0dec948-2ea6-40a2-bebe-77434774beea",
   "metadata": {},
   "outputs": [
    {
     "name": "stdout",
     "output_type": "stream",
     "text": [
      "Select your SBAS stack's HyP3 product type\n"
     ]
    },
    {
     "data": {
      "application/vnd.jupyter.widget-view+json": {
       "model_id": "140d4091aca5440a9e39b0f3c8772e9f",
       "version_major": 2,
       "version_minor": 0
      },
      "text/plain": [
       "RadioButtons(layout=Layout(min_width='800px'), options=('INSAR_GAMMA', 'INSAR_ISCE_BURST'), value='INSAR_GAMMA…"
      ]
     },
     "metadata": {},
     "output_type": "display_data"
    }
   ],
   "source": [
    "product_select = osl.select_parameter(\n",
    "    [\n",
    "        'INSAR_GAMMA',\n",
    "        'INSAR_ISCE_BURST'\n",
    "    ]\n",
    ")\n",
    "print(\"Select your SBAS stack's HyP3 product type\")\n",
    "display(product_select)"
   ]
  },
  {
   "cell_type": "code",
   "execution_count": 8,
   "id": "1b2dad03-6ade-4bd2-8103-79641edcc757",
   "metadata": {},
   "outputs": [
    {
     "name": "stdin",
     "output_type": "stream",
     "text": [
      "enter the HyP3 username on the account containing an SBAS stack to migrate vickielee333\n",
      "Enter the HyP3 project name LA2\n"
     ]
    }
   ],
   "source": [
    "product_type = product_select.value\n",
    "\n",
    "search = \"Search\" in hyp3_project.value\n",
    "if search:\n",
    "    my_hyp3_info = hyp3.my_info()\n",
    "    active_projects = dict()\n",
    "    \n",
    "    print(\"Checking all HyP3 projects for current INSAR_GAMMA jobs\")\n",
    "    for project in tqdm(my_hyp3_info['job_names']):\n",
    "            batch = Batch()\n",
    "            batch = hyp3.find_jobs(\n",
    "                name=project, \n",
    "                job_type=product_type\n",
    "            ).filter_jobs(running=False, include_expired=False)\n",
    "            if len(batch) > 0:\n",
    "                active_projects.update({batch.jobs[0].name: batch})\n",
    "    \n",
    "    if len(active_projects) > 0:\n",
    "        display(Markdown(\"<text style='color:darkred;'>Note: After selecting a project, you must select the next cell before hitting the 'Run' button or typing Shift/Enter.</text>\"))\n",
    "        display(Markdown(\"<text style='color:darkred;'>Otherwise, you will rerun this code cell.</text>\"))\n",
    "        print('\\nSelect a Project:')\n",
    "        project_select = osl.select_parameter(active_projects.keys())\n",
    "        display(project_select)\n",
    "    else:\n",
    "        print(\"Found no active projects containing InSAR products\")\n",
    "else:\n",
    "    username = input(\"enter the HyP3 username on the account containing an SBAS stack to migrate\")\n",
    "    project_name = input(\"Enter the HyP3 project name\")\n",
    "    batch = Batch()\n",
    "    batch = hyp3.find_jobs(\n",
    "        name=project_name, \n",
    "        job_type=product_type, \n",
    "        user_id=username\n",
    "    ).filter_jobs(running=False, include_expired=False)"
   ]
  },
  {
   "cell_type": "markdown",
   "id": "a18ba167-933d-4ffc-bca4-ed4334c0a318",
   "metadata": {},
   "source": [
    "**Select a date range of products to migrate:**"
   ]
  },
  {
   "cell_type": "code",
   "execution_count": 9,
   "id": "5b0413d4-266d-422a-af7d-8f0be64ce439",
   "metadata": {},
   "outputs": [
    {
     "data": {
      "text/markdown": [
       "<text style='color:darkred;'>Note: After selecting a date range, you should select the next cell before hitting the 'Run' button or typing Shift/Enter.</text>"
      ],
      "text/plain": [
       "<IPython.core.display.Markdown object>"
      ]
     },
     "metadata": {},
     "output_type": "display_data"
    },
    {
     "data": {
      "text/markdown": [
       "<text style='color:darkred;'>Otherwise, you may simply rerun this code cell.</text>"
      ],
      "text/plain": [
       "<IPython.core.display.Markdown object>"
      ]
     },
     "metadata": {},
     "output_type": "display_data"
    },
    {
     "name": "stdout",
     "output_type": "stream",
     "text": [
      "\n",
      "Select a Date Range:\n"
     ]
    },
    {
     "data": {
      "application/vnd.jupyter.widget-view+json": {
       "model_id": "8fdf17a5b098405eacb18bde581e709b",
       "version_major": 2,
       "version_minor": 0
      },
      "text/plain": [
       "SelectionRangeSlider(description='Dates', index=(0, 780), layout=Layout(width='500px'), options=((' 01/01/2022…"
      ]
     },
     "metadata": {},
     "output_type": "display_data"
    }
   ],
   "source": [
    "if search:\n",
    "    jobs = active_projects[project_select.value]\n",
    "else:\n",
    "    jobs = batch\n",
    "\n",
    "display(Markdown(\"<text style='color:darkred;'>Note: After selecting a date range, you should select the next cell before hitting the 'Run' button or typing Shift/Enter.</text>\"))\n",
    "display(Markdown(\"<text style='color:darkred;'>Otherwise, you may simply rerun this code cell.</text>\"))\n",
    "print('\\nSelect a Date Range:')\n",
    "dates = osl.get_job_dates(jobs)\n",
    "date_picker = osl.gui_date_picker(dates)\n",
    "display(date_picker)"
   ]
  },
  {
   "cell_type": "markdown",
   "id": "f7ec3cd7-27fd-46b4-bf20-b2adbe14027e",
   "metadata": {},
   "source": [
    "**Save the selected date range and remove products falling outside of it:**"
   ]
  },
  {
   "cell_type": "code",
   "execution_count": 10,
   "id": "d054f377-520b-4015-9c43-6c7641d09ebd",
   "metadata": {},
   "outputs": [
    {
     "name": "stdout",
     "output_type": "stream",
     "text": [
      "Date Range: 2022-01-01 to 2024-02-20\n"
     ]
    }
   ],
   "source": [
    "date_range = osl.get_slider_vals(date_picker)\n",
    "date_range[0] = date_range[0].date()\n",
    "date_range[1] = date_range[1].date()\n",
    "print(f\"Date Range: {str(date_range[0])} to {str(date_range[1])}\")\n",
    "jobs = osl.filter_jobs_by_date(jobs, date_range)"
   ]
  },
  {
   "cell_type": "markdown",
   "id": "1b2facfa-175a-49ef-a9bb-efd7ec72f791",
   "metadata": {},
   "source": [
    "**Gather the available paths and orbit directions for the remaining products:**"
   ]
  },
  {
   "cell_type": "code",
   "execution_count": 11,
   "id": "e119636a-93a5-479f-8a33-594073104077",
   "metadata": {},
   "outputs": [
    {
     "data": {
      "text/markdown": [
       "<text style='color:darkred;'><text style='font-size:150%;'>This may take some time for projects containing many jobs...</text></text>"
      ],
      "text/plain": [
       "<IPython.core.display.Markdown object>"
      ]
     },
     "metadata": {},
     "output_type": "display_data"
    },
    {
     "name": "stderr",
     "output_type": "stream",
     "text": [
      "/home/jovyan/.local/envs/opensarlab_mintpy_recipe_book/lib/python3.9/site-packages/tzlocal/unix.py:193: UserWarning: Can not find any timezone configuration, defaulting to UTC.\n",
      "  warnings.warn(\"Can not find any timezone configuration, defaulting to UTC.\")\n"
     ]
    },
    {
     "data": {
      "text/markdown": [
       "<text style=color:blue><text style='font-size:175%;'>Done.</text></text>"
      ],
      "text/plain": [
       "<IPython.core.display.Markdown object>"
      ]
     },
     "metadata": {},
     "output_type": "display_data"
    }
   ],
   "source": [
    "display(Markdown(\"<text style='color:darkred;'><text style='font-size:150%;'>This may take some time for projects containing many jobs...</text></text>\"))\n",
    "osl.set_paths_orbits(jobs)\n",
    "paths = set()\n",
    "orbit_directions = set()\n",
    "for p in jobs:\n",
    "    paths.add(p.path)\n",
    "    orbit_directions.add(p.orbit_direction)\n",
    "display(Markdown(f\"<text style=color:blue><text style='font-size:175%;'>Done.</text></text>\"))"
   ]
  },
  {
   "cell_type": "markdown",
   "id": "836f377b-cb38-418c-b362-821574276a53",
   "metadata": {},
   "source": [
    "**Select a path:**\n",
    "\n",
    "- Sentinel-1 has a 12-day repeat cycle so it is not appropriate to merge interferograms across multiple orbital paths. \n",
    "- If multiple paths are represented in the SBAS stack, you select one."
   ]
  },
  {
   "cell_type": "code",
   "execution_count": 12,
   "id": "c84cfbac-454d-41c6-bde0-4f6332247674",
   "metadata": {},
   "outputs": [
    {
     "data": {
      "text/markdown": [
       "<text style='color:darkred;'>Note: After selecting a path, you must select the next cell before hitting the 'Run' button or typing Shift/Enter.</text>"
      ],
      "text/plain": [
       "<IPython.core.display.Markdown object>"
      ]
     },
     "metadata": {},
     "output_type": "display_data"
    },
    {
     "data": {
      "text/markdown": [
       "<text style='color:darkred;'>Otherwise, you will simply rerun this code cell.</text>"
      ],
      "text/plain": [
       "<IPython.core.display.Markdown object>"
      ]
     },
     "metadata": {},
     "output_type": "display_data"
    },
    {
     "name": "stdout",
     "output_type": "stream",
     "text": [
      "\n",
      "Select a Path:\n"
     ]
    },
    {
     "data": {
      "application/vnd.jupyter.widget-view+json": {
       "model_id": "a6f45065477242d58c301e76d3dcecd2",
       "version_major": 2,
       "version_minor": 0
      },
      "text/plain": [
       "RadioButtons(layout=Layout(min_width='800px'), options=(64,), value=64)"
      ]
     },
     "metadata": {},
     "output_type": "display_data"
    }
   ],
   "source": [
    "display(Markdown(\"<text style='color:darkred;'>Note: After selecting a path, you must select the next cell before hitting the 'Run' button or typing Shift/Enter.</text>\"))\n",
    "display(Markdown(\"<text style='color:darkred;'>Otherwise, you will simply rerun this code cell.</text>\"))\n",
    "print('\\nSelect a Path:')\n",
    "path_choice = osl.select_parameter(paths)\n",
    "display(path_choice)"
   ]
  },
  {
   "cell_type": "markdown",
   "id": "fe8443a8-f5c0-49ea-8ff5-289892339d80",
   "metadata": {},
   "source": [
    "**Save the selected flight path/s:**"
   ]
  },
  {
   "cell_type": "code",
   "execution_count": 13,
   "id": "8faddbeb-dd8e-4019-883a-f4074e18b00e",
   "metadata": {},
   "outputs": [
    {
     "name": "stdout",
     "output_type": "stream",
     "text": [
      "Flight Path: 64\n"
     ]
    }
   ],
   "source": [
    "flight_path = path_choice.value\n",
    "if flight_path:\n",
    "    if flight_path:\n",
    "        print(f\"Flight Path: {flight_path}\")\n",
    "    else:\n",
    "        print('Flight Path: All Paths')\n",
    "else:\n",
    "    print(\"WARNING: You must select a flight path in the previous cell, then rerun this cell.\")"
   ]
  },
  {
   "cell_type": "markdown",
   "id": "1611c39d-f405-49f3-a6bc-614465518e15",
   "metadata": {},
   "source": [
    "**Select an orbit direction:**\n",
    "\n",
    "- MintPy is able to decompose 2 Line-Of-Sight (LOS) displacement time series, acquired from different orbit directions, into a vertical displacement time series\n",
    "- Each LOS time series must be processed individually"
   ]
  },
  {
   "cell_type": "code",
   "execution_count": 14,
   "id": "f8220680-f7ec-4a50-a28d-900806d6eff6",
   "metadata": {},
   "outputs": [
    {
     "name": "stdout",
     "output_type": "stream",
     "text": [
      "\n",
      "Select a Flight Direction:\n"
     ]
    },
    {
     "data": {
      "application/vnd.jupyter.widget-view+json": {
       "model_id": "c7c1cc0950484b56a270076f4188ca0c",
       "version_major": 2,
       "version_minor": 0
      },
      "text/plain": [
       "RadioButtons(description='Direction:', layout=Layout(min_width='800px'), options=('ASCENDING',), value='ASCEND…"
      ]
     },
     "metadata": {},
     "output_type": "display_data"
    }
   ],
   "source": [
    "if len(orbit_directions) > 1:\n",
    "    display(Markdown(\"<text style='color:red;'>Note: After selecting a flight direction, you must select the next cell before hitting the 'Run' button or typing Shift/Enter.</text>\"))\n",
    "    display(Markdown(\"<text style='color:red;'>Otherwise, you will simply rerun this code cell.</text>\"))\n",
    "print('\\nSelect a Flight Direction:')\n",
    "direction_choice = osl.select_parameter(orbit_directions, 'Direction:')\n",
    "display(direction_choice)"
   ]
  },
  {
   "cell_type": "markdown",
   "id": "2c5ea5af-1336-4fe3-ad3b-2efd87ba1556",
   "metadata": {},
   "source": [
    "**Save the selected orbit direction:**"
   ]
  },
  {
   "cell_type": "code",
   "execution_count": 15,
   "id": "91a76efb-ada2-4d3a-8670-c3e55086da33",
   "metadata": {},
   "outputs": [
    {
     "name": "stdout",
     "output_type": "stream",
     "text": [
      "Orbit Direction: ASCENDING\n"
     ]
    }
   ],
   "source": [
    "direction = direction_choice.value\n",
    "print(f\"Orbit Direction: {direction}\")"
   ]
  },
  {
   "cell_type": "markdown",
   "id": "a2674277-2205-42ad-bfca-31864bdf8b2d",
   "metadata": {},
   "source": [
    "**Filter jobs by path and orbit direction:**"
   ]
  },
  {
   "cell_type": "code",
   "execution_count": 16,
   "id": "9c502067-f99d-494b-8a76-61c79a97695e",
   "metadata": {},
   "outputs": [
    {
     "name": "stdout",
     "output_type": "stream",
     "text": [
      "There are 121 products to migrate.\n"
     ]
    }
   ],
   "source": [
    "jobs = osl.filter_jobs_by_path(jobs, [flight_path])\n",
    "jobs = osl.filter_jobs_by_orbit(jobs, direction)\n",
    "print(f\"There are {len(jobs)} products to migrate.\")"
   ]
  },
  {
   "cell_type": "markdown",
   "id": "860a58f0-4c08-4ff9-8cf8-6b83dc0d757a",
   "metadata": {},
   "source": [
    "**Migrate the products, unzip them into a directory named after the product type, and delete the zip files:**"
   ]
  },
  {
   "cell_type": "code",
   "execution_count": 17,
   "id": "494360ca-c07e-46db-8a0b-d383a19df815",
   "metadata": {},
   "outputs": [
    {
     "name": "stdout",
     "output_type": "stream",
     "text": [
      "\n",
      "Project: LA2\n"
     ]
    },
    {
     "data": {
      "application/vnd.jupyter.widget-view+json": {
       "model_id": "ff011e36378543238f4684ecea87ca17",
       "version_major": 2,
       "version_minor": 0
      },
      "text/plain": [
       "  0%|          | 0/121 [00:00<?, ?it/s]"
      ]
     },
     "metadata": {},
     "output_type": "display_data"
    },
    {
     "data": {
      "application/vnd.jupyter.widget-view+json": {
       "model_id": "f50d61e0ade24ff0906ec15575566c07",
       "version_major": 2,
       "version_minor": 0
      },
      "text/plain": [
       "S1AA_20220922T015014_20221016T015016_VVP024_INT80_G_ueF_DF51.zip:   0%|          | 0/232107616 [00:00<?, ?it/s…"
      ]
     },
     "metadata": {},
     "output_type": "display_data"
    },
    {
     "data": {
      "application/vnd.jupyter.widget-view+json": {
       "model_id": "14fefeeb364246e2846c5b48392eadfe",
       "version_major": 2,
       "version_minor": 0
      },
      "text/plain": [
       "S1AA_20221028T015016_20221121T015015_VVP024_INT80_G_ueF_9641.zip:   0%|          | 0/229755714 [00:00<?, ?it/s…"
      ]
     },
     "metadata": {},
     "output_type": "display_data"
    },
    {
     "data": {
      "application/vnd.jupyter.widget-view+json": {
       "model_id": "c9ca263ac42b4210946f760aca26225e",
       "version_major": 2,
       "version_minor": 0
      },
      "text/plain": [
       "S1AA_20230731T015018_20230824T015019_VVP024_INT80_G_ueF_3AA6.zip:   0%|          | 0/230344396 [00:00<?, ?it/s…"
      ]
     },
     "metadata": {},
     "output_type": "display_data"
    },
    {
     "data": {
      "application/vnd.jupyter.widget-view+json": {
       "model_id": "e2e11cc887d246a5aad6e4dae30c340f",
       "version_major": 2,
       "version_minor": 0
      },
      "text/plain": [
       "S1AA_20230812T015018_20230824T015019_VVP012_INT80_G_ueF_E305.zip:   0%|          | 0/232426126 [00:00<?, ?it/s…"
      ]
     },
     "metadata": {},
     "output_type": "display_data"
    },
    {
     "data": {
      "application/vnd.jupyter.widget-view+json": {
       "model_id": "ec3fe9d530424f4d9894203deef7d086",
       "version_major": 2,
       "version_minor": 0
      },
      "text/plain": [
       "S1AA_20231128T015019_20231222T015018_VVP024_INT80_G_ueF_51BF.zip:   0%|          | 0/231711919 [00:00<?, ?it/s…"
      ]
     },
     "metadata": {},
     "output_type": "display_data"
    },
    {
     "data": {
      "application/vnd.jupyter.widget-view+json": {
       "model_id": "36addf5ea60947169f73cceaa23b4ade",
       "version_major": 2,
       "version_minor": 0
      },
      "text/plain": [
       "S1AA_20230625T015016_20230707T015016_VVP012_INT80_G_ueF_B38F.zip:   0%|          | 0/230137064 [00:00<?, ?it/s…"
      ]
     },
     "metadata": {},
     "output_type": "display_data"
    },
    {
     "data": {
      "application/vnd.jupyter.widget-view+json": {
       "model_id": "30b8dc96e0f54a8484c636fadeca9f95",
       "version_major": 2,
       "version_minor": 0
      },
      "text/plain": [
       "S1AA_20220525T015008_20220618T015010_VVP024_INT80_G_ueF_8EB9.zip:   0%|          | 0/230180647 [00:00<?, ?it/s…"
      ]
     },
     "metadata": {},
     "output_type": "display_data"
    },
    {
     "data": {
      "application/vnd.jupyter.widget-view+json": {
       "model_id": "a975dbd2f050469f849abbaa0d023727",
       "version_major": 2,
       "version_minor": 0
      },
      "text/plain": [
       "S1AA_20221215T015014_20221227T015013_VVP012_INT80_G_ueF_0CFA.zip:   0%|          | 0/229195964 [00:00<?, ?it/s…"
      ]
     },
     "metadata": {},
     "output_type": "display_data"
    },
    {
     "data": {
      "application/vnd.jupyter.widget-view+json": {
       "model_id": "426abfc0719849ab9ccdd3b652510bbc",
       "version_major": 2,
       "version_minor": 0
      },
      "text/plain": [
       "S1AA_20230613T015015_20230707T015016_VVP024_INT80_G_ueF_168C.zip:   0%|          | 0/231711219 [00:00<?, ?it/s…"
      ]
     },
     "metadata": {},
     "output_type": "display_data"
    },
    {
     "data": {
      "application/vnd.jupyter.widget-view+json": {
       "model_id": "dae73c3eb01a4a69a241f7211941c959",
       "version_major": 2,
       "version_minor": 0
      },
      "text/plain": [
       "S1AA_20231222T015018_20240103T015018_VVP012_INT80_G_ueF_761E.zip:   0%|          | 0/231009037 [00:00<?, ?it/s…"
      ]
     },
     "metadata": {},
     "output_type": "display_data"
    },
    {
     "data": {
      "application/vnd.jupyter.widget-view+json": {
       "model_id": "7491a325e7d348b497642ce7d30941eb",
       "version_major": 2,
       "version_minor": 0
      },
      "text/plain": [
       "S1AA_20220101T015007_20220113T015007_VVP012_INT80_G_ueF_25E3.zip:   0%|          | 0/231272305 [00:00<?, ?it/s…"
      ]
     },
     "metadata": {},
     "output_type": "display_data"
    },
    {
     "data": {
      "application/vnd.jupyter.widget-view+json": {
       "model_id": "18dc5dbe747b4930a80ae5758f5417e0",
       "version_major": 2,
       "version_minor": 0
      },
      "text/plain": [
       "S1AA_20220922T015014_20221004T015015_VVP012_INT80_G_ueF_FA1B.zip:   0%|          | 0/232018929 [00:00<?, ?it/s…"
      ]
     },
     "metadata": {},
     "output_type": "display_data"
    },
    {
     "data": {
      "application/vnd.jupyter.widget-view+json": {
       "model_id": "2f1f377844c440058c65037f4d8242df",
       "version_major": 2,
       "version_minor": 0
      },
      "text/plain": [
       "S1AA_20230917T015020_20231011T015020_VVP024_INT80_G_ueF_0E6B.zip:   0%|          | 0/230856455 [00:00<?, ?it/s…"
      ]
     },
     "metadata": {},
     "output_type": "display_data"
    },
    {
     "data": {
      "application/vnd.jupyter.widget-view+json": {
       "model_id": "adc9915a16e94103972dde727b6f9253",
       "version_major": 2,
       "version_minor": 0
      },
      "text/plain": [
       "S1AA_20230905T015028_20230917T015020_VVP012_INT80_G_ueF_053D.zip:   0%|          | 0/168590314 [00:00<?, ?it/s…"
      ]
     },
     "metadata": {},
     "output_type": "display_data"
    },
    {
     "data": {
      "application/vnd.jupyter.widget-view+json": {
       "model_id": "55f3bfbfdaf94a55b73f897c3356167e",
       "version_major": 2,
       "version_minor": 0
      },
      "text/plain": [
       "S1AA_20230601T015014_20230613T015015_VVP012_INT80_G_ueF_E9AF.zip:   0%|          | 0/230692271 [00:00<?, ?it/s…"
      ]
     },
     "metadata": {},
     "output_type": "display_data"
    },
    {
     "data": {
      "application/vnd.jupyter.widget-view+json": {
       "model_id": "d9a343a4393743498ac22693bfd8f0c2",
       "version_major": 2,
       "version_minor": 0
      },
      "text/plain": [
       "S1AA_20220501T015007_20220513T015008_VVP012_INT80_G_ueF_98B3.zip:   0%|          | 0/230544764 [00:00<?, ?it/s…"
      ]
     },
     "metadata": {},
     "output_type": "display_data"
    },
    {
     "data": {
      "application/vnd.jupyter.widget-view+json": {
       "model_id": "c7f4b6c4832c420db2d528cdc7c0999e",
       "version_major": 2,
       "version_minor": 0
      },
      "text/plain": [
       "S1AA_20230213T015011_20230309T015011_VVP024_INT80_G_ueF_24C3.zip:   0%|          | 0/231800639 [00:00<?, ?it/s…"
      ]
     },
     "metadata": {},
     "output_type": "display_data"
    },
    {
     "data": {
      "application/vnd.jupyter.widget-view+json": {
       "model_id": "adbb0d44107e4d7198d918774b1c83cd",
       "version_major": 2,
       "version_minor": 0
      },
      "text/plain": [
       "S1AA_20221109T015015_20221203T015014_VVP024_INT80_G_ueF_CB8A.zip:   0%|          | 0/230962880 [00:00<?, ?it/s…"
      ]
     },
     "metadata": {},
     "output_type": "display_data"
    },
    {
     "data": {
      "application/vnd.jupyter.widget-view+json": {
       "model_id": "c9eb5f15810247b99ba82d14c4c0195c",
       "version_major": 2,
       "version_minor": 0
      },
      "text/plain": [
       "S1AA_20221121T015015_20221203T015014_VVP012_INT80_G_ueF_30E3.zip:   0%|          | 0/231533301 [00:00<?, ?it/s…"
      ]
     },
     "metadata": {},
     "output_type": "display_data"
    },
    {
     "data": {
      "application/vnd.jupyter.widget-view+json": {
       "model_id": "1559cb732eef494d8fa4e375c3831733",
       "version_major": 2,
       "version_minor": 0
      },
      "text/plain": [
       "S1AA_20230309T015011_20230402T015012_VVP024_INT80_G_ueF_F21C.zip:   0%|          | 0/232505762 [00:00<?, ?it/s…"
      ]
     },
     "metadata": {},
     "output_type": "display_data"
    },
    {
     "data": {
      "application/vnd.jupyter.widget-view+json": {
       "model_id": "5d4ddcc93f4445739ab66db116ea73d2",
       "version_major": 2,
       "version_minor": 0
      },
      "text/plain": [
       "S1AA_20230120T015012_20230213T015011_VVP024_INT80_G_ueF_53DC.zip:   0%|          | 0/231512105 [00:00<?, ?it/s…"
      ]
     },
     "metadata": {},
     "output_type": "display_data"
    },
    {
     "data": {
      "application/vnd.jupyter.widget-view+json": {
       "model_id": "5f0b95b1dc434a548b5d57cb2a694f65",
       "version_major": 2,
       "version_minor": 0
      },
      "text/plain": [
       "S1AA_20230402T015012_20230414T015012_VVP012_INT80_G_ueF_CC29.zip:   0%|          | 0/231772418 [00:00<?, ?it/s…"
      ]
     },
     "metadata": {},
     "output_type": "display_data"
    },
    {
     "data": {
      "application/vnd.jupyter.widget-view+json": {
       "model_id": "bbc16120687141b89e72558d7eba7b7e",
       "version_major": 2,
       "version_minor": 0
      },
      "text/plain": [
       "S1AA_20230601T015014_20230625T015016_VVP024_INT80_G_ueF_1C46.zip:   0%|          | 0/230859976 [00:00<?, ?it/s…"
      ]
     },
     "metadata": {},
     "output_type": "display_data"
    },
    {
     "data": {
      "application/vnd.jupyter.widget-view+json": {
       "model_id": "456f198ef89e406887c460224179434c",
       "version_major": 2,
       "version_minor": 0
      },
      "text/plain": [
       "S1AA_20230414T015012_20230508T015013_VVP024_INT80_G_ueF_382A.zip:   0%|          | 0/232312704 [00:00<?, ?it/s…"
      ]
     },
     "metadata": {},
     "output_type": "display_data"
    },
    {
     "data": {
      "application/vnd.jupyter.widget-view+json": {
       "model_id": "7429c2e3520646278cb63039f2ae3c72",
       "version_major": 2,
       "version_minor": 0
      },
      "text/plain": [
       "S1AA_20231116T015020_20231210T015019_VVP024_INT80_G_ueF_0F8F.zip:   0%|          | 0/232012205 [00:00<?, ?it/s…"
      ]
     },
     "metadata": {},
     "output_type": "display_data"
    },
    {
     "data": {
      "application/vnd.jupyter.widget-view+json": {
       "model_id": "f5bde75aaff7418cbd2b8f4888c67d78",
       "version_major": 2,
       "version_minor": 0
      },
      "text/plain": [
       "S1AA_20220618T015010_20220712T015012_VVP024_INT80_G_ueF_7399.zip:   0%|          | 0/231899702 [00:00<?, ?it/s…"
      ]
     },
     "metadata": {},
     "output_type": "display_data"
    },
    {
     "data": {
      "application/vnd.jupyter.widget-view+json": {
       "model_id": "1edd9ea82822477ea967da40938a9588",
       "version_major": 2,
       "version_minor": 0
      },
      "text/plain": [
       "S1AA_20220314T015005_20220407T015006_VVP024_INT80_G_ueF_A7A4.zip:   0%|          | 0/231114971 [00:00<?, ?it/s…"
      ]
     },
     "metadata": {},
     "output_type": "display_data"
    },
    {
     "data": {
      "application/vnd.jupyter.widget-view+json": {
       "model_id": "88b4bf2b14514c31866b35bbe2ea28f3",
       "version_major": 2,
       "version_minor": 0
      },
      "text/plain": [
       "S1AA_20220326T015006_20220407T015006_VVP012_INT80_G_ueF_2CD8.zip:   0%|          | 0/231130500 [00:00<?, ?it/s…"
      ]
     },
     "metadata": {},
     "output_type": "display_data"
    },
    {
     "data": {
      "application/vnd.jupyter.widget-view+json": {
       "model_id": "72a377fba3ce48ecb403673c88ac7ab3",
       "version_major": 2,
       "version_minor": 0
      },
      "text/plain": [
       "S1AA_20220407T015006_20220501T015007_VVP024_INT80_G_ueF_BBFF.zip:   0%|          | 0/231976288 [00:00<?, ?it/s…"
      ]
     },
     "metadata": {},
     "output_type": "display_data"
    },
    {
     "data": {
      "application/vnd.jupyter.widget-view+json": {
       "model_id": "ced408d6d6b14282a8e431b23e6fa759",
       "version_major": 2,
       "version_minor": 0
      },
      "text/plain": [
       "S1AA_20230426T015012_20230520T015014_VVP024_INT80_G_ueF_D9A3.zip:   0%|          | 0/230325284 [00:00<?, ?it/s…"
      ]
     },
     "metadata": {},
     "output_type": "display_data"
    },
    {
     "data": {
      "application/vnd.jupyter.widget-view+json": {
       "model_id": "76cf08a5c7f341619dea1736da7a9f09",
       "version_major": 2,
       "version_minor": 0
      },
      "text/plain": [
       "S1AA_20231116T015020_20231128T015019_VVP012_INT80_G_ueF_A3D7.zip:   0%|          | 0/232311336 [00:00<?, ?it/s…"
      ]
     },
     "metadata": {},
     "output_type": "display_data"
    },
    {
     "data": {
      "application/vnd.jupyter.widget-view+json": {
       "model_id": "f68e122975954305ac361a668f463458",
       "version_major": 2,
       "version_minor": 0
      },
      "text/plain": [
       "S1AA_20220407T015006_20220419T015006_VVP012_INT80_G_ueF_1641.zip:   0%|          | 0/231958427 [00:00<?, ?it/s…"
      ]
     },
     "metadata": {},
     "output_type": "display_data"
    },
    {
     "data": {
      "application/vnd.jupyter.widget-view+json": {
       "model_id": "dcaa17ba41ba49d08a8cf4b8fedfc285",
       "version_major": 2,
       "version_minor": 0
      },
      "text/plain": [
       "S1AA_20220501T015007_20220525T015008_VVP024_INT80_G_ueF_C6C8.zip:   0%|          | 0/232351747 [00:00<?, ?it/s…"
      ]
     },
     "metadata": {},
     "output_type": "display_data"
    },
    {
     "data": {
      "application/vnd.jupyter.widget-view+json": {
       "model_id": "825507022b7b4fc3a75e4e424bfe7190",
       "version_major": 2,
       "version_minor": 0
      },
      "text/plain": [
       "S1AA_20221004T015015_20221028T015016_VVP024_INT80_G_ueF_F542.zip:   0%|          | 0/230360310 [00:00<?, ?it/s…"
      ]
     },
     "metadata": {},
     "output_type": "display_data"
    },
    {
     "data": {
      "application/vnd.jupyter.widget-view+json": {
       "model_id": "65e3a3c7bf4b48a99e1de1b645e73ecf",
       "version_major": 2,
       "version_minor": 0
      },
      "text/plain": [
       "S1AA_20220817T015014_20220910T015015_VVP024_INT80_G_ueF_2210.zip:   0%|          | 0/230757979 [00:00<?, ?it/s…"
      ]
     },
     "metadata": {},
     "output_type": "display_data"
    },
    {
     "data": {
      "application/vnd.jupyter.widget-view+json": {
       "model_id": "75141bb37baf42ef90baaf1acc875249",
       "version_major": 2,
       "version_minor": 0
      },
      "text/plain": [
       "S1AA_20230321T015011_20230414T015012_VVP024_INT80_G_ueF_6ECB.zip:   0%|          | 0/231098578 [00:00<?, ?it/s…"
      ]
     },
     "metadata": {},
     "output_type": "display_data"
    },
    {
     "data": {
      "application/vnd.jupyter.widget-view+json": {
       "model_id": "7014de68207b4004826b14a2c2596deb",
       "version_major": 2,
       "version_minor": 0
      },
      "text/plain": [
       "S1AA_20240115T015017_20240208T015016_VVP024_INT80_G_ueF_05D4.zip:   0%|          | 0/233246983 [00:00<?, ?it/s…"
      ]
     },
     "metadata": {},
     "output_type": "display_data"
    },
    {
     "data": {
      "application/vnd.jupyter.widget-view+json": {
       "model_id": "6d285a7f3f2a4dd3bf39d94623bf7aff",
       "version_major": 2,
       "version_minor": 0
      },
      "text/plain": [
       "S1AA_20221227T015013_20230108T015013_VVP012_INT80_G_ueF_A100.zip:   0%|          | 0/230544772 [00:00<?, ?it/s…"
      ]
     },
     "metadata": {},
     "output_type": "display_data"
    },
    {
     "data": {
      "application/vnd.jupyter.widget-view+json": {
       "model_id": "e9bab129c4524160b07efc238178b41b",
       "version_major": 2,
       "version_minor": 0
      },
      "text/plain": [
       "S1AA_20220101T015007_20220125T015006_VVP024_INT80_G_ueF_F3BD.zip:   0%|          | 0/231125838 [00:00<?, ?it/s…"
      ]
     },
     "metadata": {},
     "output_type": "display_data"
    },
    {
     "data": {
      "application/vnd.jupyter.widget-view+json": {
       "model_id": "4ef20ae1443d47be8f39da5c66d56da3",
       "version_major": 2,
       "version_minor": 0
      },
      "text/plain": [
       "S1AA_20230613T015015_20230625T015016_VVP012_INT80_G_ueF_AA43.zip:   0%|          | 0/230889432 [00:00<?, ?it/s…"
      ]
     },
     "metadata": {},
     "output_type": "display_data"
    },
    {
     "data": {
      "application/vnd.jupyter.widget-view+json": {
       "model_id": "8cd378d0cb2a47abaa4482a1c096bc42",
       "version_major": 2,
       "version_minor": 0
      },
      "text/plain": [
       "S1AA_20220817T015014_20220829T015014_VVP012_INT80_G_ueF_C638.zip:   0%|          | 0/230138774 [00:00<?, ?it/s…"
      ]
     },
     "metadata": {},
     "output_type": "display_data"
    },
    {
     "data": {
      "application/vnd.jupyter.widget-view+json": {
       "model_id": "b22a3d9596ab47adb9c91d8f08a7d09e",
       "version_major": 2,
       "version_minor": 0
      },
      "text/plain": [
       "S1AA_20230213T015011_20230225T015011_VVP012_INT80_G_ueF_1BC9.zip:   0%|          | 0/230995060 [00:00<?, ?it/s…"
      ]
     },
     "metadata": {},
     "output_type": "display_data"
    },
    {
     "data": {
      "application/vnd.jupyter.widget-view+json": {
       "model_id": "62abd02f05cc492692012314be6513fe",
       "version_major": 2,
       "version_minor": 0
      },
      "text/plain": [
       "S1AA_20230707T015016_20230731T015018_VVP024_INT80_G_ueF_1EF7.zip:   0%|          | 0/230222819 [00:00<?, ?it/s…"
      ]
     },
     "metadata": {},
     "output_type": "display_data"
    },
    {
     "data": {
      "application/vnd.jupyter.widget-view+json": {
       "model_id": "fee308b0e93f4a7da171463e79d0a848",
       "version_major": 2,
       "version_minor": 0
      },
      "text/plain": [
       "S1AA_20230309T015011_20230321T015011_VVP012_INT80_G_ueF_0E7C.zip:   0%|          | 0/231894238 [00:00<?, ?it/s…"
      ]
     },
     "metadata": {},
     "output_type": "display_data"
    },
    {
     "data": {
      "application/vnd.jupyter.widget-view+json": {
       "model_id": "4961e2e1aed04d7abb6761810ee1e03d",
       "version_major": 2,
       "version_minor": 0
      },
      "text/plain": [
       "S1AA_20230414T015012_20230426T015012_VVP012_INT80_G_ueF_DBC2.zip:   0%|          | 0/230077344 [00:00<?, ?it/s…"
      ]
     },
     "metadata": {},
     "output_type": "display_data"
    },
    {
     "data": {
      "application/vnd.jupyter.widget-view+json": {
       "model_id": "ee08a7abcc2d47168b1e0094441b61cc",
       "version_major": 2,
       "version_minor": 0
      },
      "text/plain": [
       "S1AA_20231011T015020_20231023T015021_VVP012_INT80_G_ueF_6F95.zip:   0%|          | 0/233244141 [00:00<?, ?it/s…"
      ]
     },
     "metadata": {},
     "output_type": "display_data"
    },
    {
     "data": {
      "application/vnd.jupyter.widget-view+json": {
       "model_id": "cd913eb41f1d4603b2b5bf80b6758e46",
       "version_major": 2,
       "version_minor": 0
      },
      "text/plain": [
       "S1AA_20230120T015012_20230201T015012_VVP012_INT80_G_ueF_0B7A.zip:   0%|          | 0/231357023 [00:00<?, ?it/s…"
      ]
     },
     "metadata": {},
     "output_type": "display_data"
    },
    {
     "data": {
      "application/vnd.jupyter.widget-view+json": {
       "model_id": "f9e3f97ddbb949ee97dad8be483187b6",
       "version_major": 2,
       "version_minor": 0
      },
      "text/plain": [
       "S1AA_20231011T015020_20231104T015020_VVP024_INT80_G_ueF_3C51.zip:   0%|          | 0/231994856 [00:00<?, ?it/s…"
      ]
     },
     "metadata": {},
     "output_type": "display_data"
    },
    {
     "data": {
      "application/vnd.jupyter.widget-view+json": {
       "model_id": "eb0499c088c74fdf9eaf9a70fff94b9c",
       "version_major": 2,
       "version_minor": 0
      },
      "text/plain": [
       "S1AA_20230201T015012_20230225T015011_VVP024_INT80_G_ueF_8CB9.zip:   0%|          | 0/232038207 [00:00<?, ?it/s…"
      ]
     },
     "metadata": {},
     "output_type": "display_data"
    },
    {
     "data": {
      "application/vnd.jupyter.widget-view+json": {
       "model_id": "7604a3b81ace4330a6d0dbec69f90ae8",
       "version_major": 2,
       "version_minor": 0
      },
      "text/plain": [
       "S1AA_20221028T015016_20221109T015015_VVP012_INT80_G_ueF_237C.zip:   0%|          | 0/231514869 [00:00<?, ?it/s…"
      ]
     },
     "metadata": {},
     "output_type": "display_data"
    },
    {
     "data": {
      "application/vnd.jupyter.widget-view+json": {
       "model_id": "ea8abe0c273443948aae4b01a621451f",
       "version_major": 2,
       "version_minor": 0
      },
      "text/plain": [
       "S1AA_20220419T015006_20220501T015007_VVP012_INT80_G_ueF_1E94.zip:   0%|          | 0/230266857 [00:00<?, ?it/s…"
      ]
     },
     "metadata": {},
     "output_type": "display_data"
    },
    {
     "data": {
      "application/vnd.jupyter.widget-view+json": {
       "model_id": "ff8f6011842347b59b2cfd3cb0d5e713",
       "version_major": 2,
       "version_minor": 0
      },
      "text/plain": [
       "S1AA_20221203T015014_20221227T015013_VVP024_INT80_G_ueF_8576.zip:   0%|          | 0/230885931 [00:00<?, ?it/s…"
      ]
     },
     "metadata": {},
     "output_type": "display_data"
    },
    {
     "data": {
      "application/vnd.jupyter.widget-view+json": {
       "model_id": "7ddc02317e00466c9486c1420084a8ad",
       "version_major": 2,
       "version_minor": 0
      },
      "text/plain": [
       "S1AA_20220525T015008_20220606T015010_VVP012_INT80_G_ueF_87C9.zip:   0%|          | 0/230672365 [00:00<?, ?it/s…"
      ]
     },
     "metadata": {},
     "output_type": "display_data"
    },
    {
     "data": {
      "application/vnd.jupyter.widget-view+json": {
       "model_id": "a66c7bbd8d4f45858d4a71fbc89d648c",
       "version_major": 2,
       "version_minor": 0
      },
      "text/plain": [
       "S1AA_20221227T015013_20230120T015012_VVP024_INT80_G_ueF_E692.zip:   0%|          | 0/231151013 [00:00<?, ?it/s…"
      ]
     },
     "metadata": {},
     "output_type": "display_data"
    },
    {
     "data": {
      "application/vnd.jupyter.widget-view+json": {
       "model_id": "568ecdbbc22f4510b65874f869a7ef91",
       "version_major": 2,
       "version_minor": 0
      },
      "text/plain": [
       "S1AA_20240127T015017_20240220T015016_VVP024_INT80_G_ueF_8C8C.zip:   0%|          | 0/230784333 [00:00<?, ?it/s…"
      ]
     },
     "metadata": {},
     "output_type": "display_data"
    },
    {
     "data": {
      "application/vnd.jupyter.widget-view+json": {
       "model_id": "c34636e1068d4087bd5523fc7adb31fb",
       "version_major": 2,
       "version_minor": 0
      },
      "text/plain": [
       "S1AA_20221109T015015_20221121T015015_VVP012_INT80_G_ueF_B5FC.zip:   0%|          | 0/231637525 [00:00<?, ?it/s…"
      ]
     },
     "metadata": {},
     "output_type": "display_data"
    },
    {
     "data": {
      "application/vnd.jupyter.widget-view+json": {
       "model_id": "6055c477cc4344faae9c54b4c8bb7570",
       "version_major": 2,
       "version_minor": 0
      },
      "text/plain": [
       "S1AA_20231210T015019_20231222T015018_VVP012_INT80_G_ueF_11E6.zip:   0%|          | 0/232968707 [00:00<?, ?it/s…"
      ]
     },
     "metadata": {},
     "output_type": "display_data"
    },
    {
     "data": {
      "application/vnd.jupyter.widget-view+json": {
       "model_id": "46706ef9322f45408bec6c8549e7ea06",
       "version_major": 2,
       "version_minor": 0
      },
      "text/plain": [
       "S1AA_20231210T015019_20240103T015018_VVP024_INT80_G_ueF_DB45.zip:   0%|          | 0/230861050 [00:00<?, ?it/s…"
      ]
     },
     "metadata": {},
     "output_type": "display_data"
    },
    {
     "data": {
      "application/vnd.jupyter.widget-view+json": {
       "model_id": "9e8760efa89247e6b935d3a684f47fcd",
       "version_major": 2,
       "version_minor": 0
      },
      "text/plain": [
       "S1AA_20230929T015020_20231011T015020_VVP012_INT80_G_ueF_CCB0.zip:   0%|          | 0/231713455 [00:00<?, ?it/s…"
      ]
     },
     "metadata": {},
     "output_type": "display_data"
    },
    {
     "data": {
      "application/vnd.jupyter.widget-view+json": {
       "model_id": "58b14831d798476fb19a8e8fe86717e9",
       "version_major": 2,
       "version_minor": 0
      },
      "text/plain": [
       "S1AA_20220712T015012_20220805T015013_VVP024_INT80_G_ueF_6728.zip:   0%|          | 0/229989673 [00:00<?, ?it/s…"
      ]
     },
     "metadata": {},
     "output_type": "display_data"
    },
    {
     "data": {
      "application/vnd.jupyter.widget-view+json": {
       "model_id": "a440b8e0bce54c7b96722e496e193065",
       "version_major": 2,
       "version_minor": 0
      },
      "text/plain": [
       "S1AA_20220326T015006_20220419T015006_VVP024_INT80_G_ueF_6DB6.zip:   0%|          | 0/230971560 [00:00<?, ?it/s…"
      ]
     },
     "metadata": {},
     "output_type": "display_data"
    },
    {
     "data": {
      "application/vnd.jupyter.widget-view+json": {
       "model_id": "7e5f61255c2a48cfb9fc62e690de9c7e",
       "version_major": 2,
       "version_minor": 0
      },
      "text/plain": [
       "S1AA_20221215T015014_20230108T015013_VVP024_INT80_G_ueF_872E.zip:   0%|          | 0/229614350 [00:00<?, ?it/s…"
      ]
     },
     "metadata": {},
     "output_type": "display_data"
    },
    {
     "data": {
      "application/vnd.jupyter.widget-view+json": {
       "model_id": "38fb7e51288b4ede97493ed33d3d8bdc",
       "version_major": 2,
       "version_minor": 0
      },
      "text/plain": [
       "S1AA_20220724T015012_20220817T015014_VVP024_INT80_G_ueF_87E7.zip:   0%|          | 0/231226134 [00:00<?, ?it/s…"
      ]
     },
     "metadata": {},
     "output_type": "display_data"
    },
    {
     "data": {
      "application/vnd.jupyter.widget-view+json": {
       "model_id": "d520fa6ec501411abb71bfc4ef68a35c",
       "version_major": 2,
       "version_minor": 0
      },
      "text/plain": [
       "S1AA_20220910T015015_20220922T015014_VVP012_INT80_G_ueF_2ACC.zip:   0%|          | 0/233418248 [00:00<?, ?it/s…"
      ]
     },
     "metadata": {},
     "output_type": "display_data"
    },
    {
     "data": {
      "application/vnd.jupyter.widget-view+json": {
       "model_id": "c61541cec7a24f9983a6755165cdf376",
       "version_major": 2,
       "version_minor": 0
      },
      "text/plain": [
       "S1AA_20230508T015013_20230520T015014_VVP012_INT80_G_ueF_5617.zip:   0%|          | 0/230272637 [00:00<?, ?it/s…"
      ]
     },
     "metadata": {},
     "output_type": "display_data"
    },
    {
     "data": {
      "application/vnd.jupyter.widget-view+json": {
       "model_id": "128e7fe7b2e94747ae97bfd728da7548",
       "version_major": 2,
       "version_minor": 0
      },
      "text/plain": [
       "S1AA_20220829T015014_20220910T015015_VVP012_INT80_G_ueF_A96C.zip:   0%|          | 0/232671899 [00:00<?, ?it/s…"
      ]
     },
     "metadata": {},
     "output_type": "display_data"
    },
    {
     "data": {
      "application/vnd.jupyter.widget-view+json": {
       "model_id": "2d073b78de0547c0bc7e1ad31d426107",
       "version_major": 2,
       "version_minor": 0
      },
      "text/plain": [
       "S1AA_20221016T015016_20221109T015015_VVP024_INT80_G_ueF_DBB9.zip:   0%|          | 0/232105067 [00:00<?, ?it/s…"
      ]
     },
     "metadata": {},
     "output_type": "display_data"
    },
    {
     "data": {
      "application/vnd.jupyter.widget-view+json": {
       "model_id": "ce92ec8b792a4c42a6a545345f207045",
       "version_major": 2,
       "version_minor": 0
      },
      "text/plain": [
       "S1AA_20230225T015011_20230321T015011_VVP024_INT80_G_ueF_9408.zip:   0%|          | 0/230678895 [00:00<?, ?it/s…"
      ]
     },
     "metadata": {},
     "output_type": "display_data"
    },
    {
     "data": {
      "application/vnd.jupyter.widget-view+json": {
       "model_id": "6790555474ef46498f79cbb2b008c728",
       "version_major": 2,
       "version_minor": 0
      },
      "text/plain": [
       "S1AA_20220314T015005_20220326T015006_VVP012_INT80_G_ueF_DFAC.zip:   0%|          | 0/231757900 [00:00<?, ?it/s…"
      ]
     },
     "metadata": {},
     "output_type": "display_data"
    },
    {
     "data": {
      "application/vnd.jupyter.widget-view+json": {
       "model_id": "7c59bc6e9d1f4d388ea9ee89f9d572b6",
       "version_major": 2,
       "version_minor": 0
      },
      "text/plain": [
       "S1AA_20220113T015007_20220206T015006_VVP024_INT80_G_ueF_8CA4.zip:   0%|          | 0/230129057 [00:00<?, ?it/s…"
      ]
     },
     "metadata": {},
     "output_type": "display_data"
    },
    {
     "data": {
      "application/vnd.jupyter.widget-view+json": {
       "model_id": "1d95ab40d7a843abbf285dd313dee987",
       "version_major": 2,
       "version_minor": 0
      },
      "text/plain": [
       "S1AA_20230201T015012_20230213T015011_VVP012_INT80_G_ueF_7ED4.zip:   0%|          | 0/231130621 [00:00<?, ?it/s…"
      ]
     },
     "metadata": {},
     "output_type": "display_data"
    },
    {
     "data": {
      "application/vnd.jupyter.widget-view+json": {
       "model_id": "27a989fb5f7649f1bd543574d016aee1",
       "version_major": 2,
       "version_minor": 0
      },
      "text/plain": [
       "S1AA_20240115T015017_20240127T015017_VVP012_INT80_G_ueF_F014.zip:   0%|          | 0/230883311 [00:00<?, ?it/s…"
      ]
     },
     "metadata": {},
     "output_type": "display_data"
    },
    {
     "data": {
      "application/vnd.jupyter.widget-view+json": {
       "model_id": "29e1e5fa84b94db19002a26ec602a458",
       "version_major": 2,
       "version_minor": 0
      },
      "text/plain": [
       "S1AA_20240127T015017_20240208T015016_VVP012_INT80_G_ueF_A5C1.zip:   0%|          | 0/231809192 [00:00<?, ?it/s…"
      ]
     },
     "metadata": {},
     "output_type": "display_data"
    },
    {
     "data": {
      "application/vnd.jupyter.widget-view+json": {
       "model_id": "96f0508f926549fa80b85ad567f83ef1",
       "version_major": 2,
       "version_minor": 0
      },
      "text/plain": [
       "S1AA_20220218T015005_20220314T015005_VVP024_INT80_G_ueF_7C02.zip:   0%|          | 0/229445762 [00:00<?, ?it/s…"
      ]
     },
     "metadata": {},
     "output_type": "display_data"
    },
    {
     "data": {
      "application/vnd.jupyter.widget-view+json": {
       "model_id": "4d30adcbae0e4874a1a754c9dfd972df",
       "version_major": 2,
       "version_minor": 0
      },
      "text/plain": [
       "S1AA_20220606T015010_20220630T015011_VVP024_INT80_G_ueF_7FBE.zip:   0%|          | 0/230844269 [00:00<?, ?it/s…"
      ]
     },
     "metadata": {},
     "output_type": "display_data"
    },
    {
     "data": {
      "application/vnd.jupyter.widget-view+json": {
       "model_id": "e92a2cb856f441b9935a8db77d80529d",
       "version_major": 2,
       "version_minor": 0
      },
      "text/plain": [
       "S1AA_20220829T015014_20220922T015014_VVP024_INT80_G_ueF_178D.zip:   0%|          | 0/231344766 [00:00<?, ?it/s…"
      ]
     },
     "metadata": {},
     "output_type": "display_data"
    },
    {
     "data": {
      "application/vnd.jupyter.widget-view+json": {
       "model_id": "571943aac95a4759a49fc255d7b26cd2",
       "version_major": 2,
       "version_minor": 0
      },
      "text/plain": [
       "S1AA_20231023T015021_20231104T015020_VVP012_INT80_G_ueF_7CFF.zip:   0%|          | 0/232278550 [00:00<?, ?it/s…"
      ]
     },
     "metadata": {},
     "output_type": "display_data"
    },
    {
     "data": {
      "application/vnd.jupyter.widget-view+json": {
       "model_id": "b27e06f64bca405091c4b032350bde0a",
       "version_major": 2,
       "version_minor": 0
      },
      "text/plain": [
       "S1AA_20220618T015010_20220630T015011_VVP012_INT80_G_ueF_F678.zip:   0%|          | 0/230645156 [00:00<?, ?it/s…"
      ]
     },
     "metadata": {},
     "output_type": "display_data"
    },
    {
     "data": {
      "application/vnd.jupyter.widget-view+json": {
       "model_id": "245936053a584f67bd7ea3dca3f72aa1",
       "version_major": 2,
       "version_minor": 0
      },
      "text/plain": [
       "S1AA_20230812T015018_20230905T015028_VVP024_INT80_G_ueF_E595.zip:   0%|          | 0/169213864 [00:00<?, ?it/s…"
      ]
     },
     "metadata": {},
     "output_type": "display_data"
    },
    {
     "data": {
      "application/vnd.jupyter.widget-view+json": {
       "model_id": "6e89df08d9bf421e9b771def7eab33e8",
       "version_major": 2,
       "version_minor": 0
      },
      "text/plain": [
       "S1AA_20231023T015021_20231116T015020_VVP024_INT80_G_ueF_FE61.zip:   0%|          | 0/231581880 [00:00<?, ?it/s…"
      ]
     },
     "metadata": {},
     "output_type": "display_data"
    },
    {
     "data": {
      "application/vnd.jupyter.widget-view+json": {
       "model_id": "69a4d552ad9a4806840be3ea0ad35119",
       "version_major": 2,
       "version_minor": 0
      },
      "text/plain": [
       "S1AA_20220419T015006_20220513T015008_VVP024_INT80_G_ueF_B4E7.zip:   0%|          | 0/231856588 [00:00<?, ?it/s…"
      ]
     },
     "metadata": {},
     "output_type": "display_data"
    },
    {
     "data": {
      "application/vnd.jupyter.widget-view+json": {
       "model_id": "d7df874391dc4ea295d118303571d3e1",
       "version_major": 2,
       "version_minor": 0
      },
      "text/plain": [
       "S1AA_20230108T015013_20230120T015012_VVP012_INT80_G_ueF_8148.zip:   0%|          | 0/230389177 [00:00<?, ?it/s…"
      ]
     },
     "metadata": {},
     "output_type": "display_data"
    },
    {
     "data": {
      "application/vnd.jupyter.widget-view+json": {
       "model_id": "a0d8fba3e0b44145994d55529b254e09",
       "version_major": 2,
       "version_minor": 0
      },
      "text/plain": [
       "S1AA_20220630T015011_20220712T015012_VVP012_INT80_G_ueF_C9F7.zip:   0%|          | 0/229809714 [00:00<?, ?it/s…"
      ]
     },
     "metadata": {},
     "output_type": "display_data"
    },
    {
     "data": {
      "application/vnd.jupyter.widget-view+json": {
       "model_id": "c67c3723d14b48b39d22716960c1f85c",
       "version_major": 2,
       "version_minor": 0
      },
      "text/plain": [
       "S1AA_20230520T015014_20230613T015015_VVP024_INT80_G_ueF_ADF5.zip:   0%|          | 0/229972121 [00:00<?, ?it/s…"
      ]
     },
     "metadata": {},
     "output_type": "display_data"
    },
    {
     "data": {
      "application/vnd.jupyter.widget-view+json": {
       "model_id": "eb4a3e1f5f57465a93adee8904288e25",
       "version_major": 2,
       "version_minor": 0
      },
      "text/plain": [
       "S1AA_20221004T015015_20221016T015016_VVP012_INT80_G_ueF_12DB.zip:   0%|          | 0/231304964 [00:00<?, ?it/s…"
      ]
     },
     "metadata": {},
     "output_type": "display_data"
    },
    {
     "data": {
      "application/vnd.jupyter.widget-view+json": {
       "model_id": "a5c4653f68b34840b640dfcdc0e9ab30",
       "version_major": 2,
       "version_minor": 0
      },
      "text/plain": [
       "S1AA_20220805T015013_20220817T015014_VVP012_INT80_G_ueF_3EEC.zip:   0%|          | 0/230153903 [00:00<?, ?it/s…"
      ]
     },
     "metadata": {},
     "output_type": "display_data"
    },
    {
     "data": {
      "application/vnd.jupyter.widget-view+json": {
       "model_id": "3d3d9280dee14939bae2b1f44f79bd78",
       "version_major": 2,
       "version_minor": 0
      },
      "text/plain": [
       "S1AA_20240103T015018_20240115T015017_VVP012_INT80_G_ueF_AC12.zip:   0%|          | 0/231067936 [00:00<?, ?it/s…"
      ]
     },
     "metadata": {},
     "output_type": "display_data"
    },
    {
     "data": {
      "application/vnd.jupyter.widget-view+json": {
       "model_id": "621f5fd226154f018ba71ae7bcc2032d",
       "version_major": 2,
       "version_minor": 0
      },
      "text/plain": [
       "S1AA_20220630T015011_20220724T015012_VVP024_INT80_G_ueF_A64B.zip:   0%|          | 0/229661668 [00:00<?, ?it/s…"
      ]
     },
     "metadata": {},
     "output_type": "display_data"
    },
    {
     "data": {
      "application/vnd.jupyter.widget-view+json": {
       "model_id": "a982821cef9e44e887f4d697092c61c5",
       "version_major": 2,
       "version_minor": 0
      },
      "text/plain": [
       "S1AA_20230321T015011_20230402T015012_VVP012_INT80_G_ueF_A42D.zip:   0%|          | 0/230926285 [00:00<?, ?it/s…"
      ]
     },
     "metadata": {},
     "output_type": "display_data"
    },
    {
     "data": {
      "application/vnd.jupyter.widget-view+json": {
       "model_id": "3036e7bf1ed4475eb8a44f356c6e14ba",
       "version_major": 2,
       "version_minor": 0
      },
      "text/plain": [
       "S1AA_20220513T015008_20220606T015010_VVP024_INT80_G_ueF_8DE0.zip:   0%|          | 0/230757093 [00:00<?, ?it/s…"
      ]
     },
     "metadata": {},
     "output_type": "display_data"
    },
    {
     "data": {
      "application/vnd.jupyter.widget-view+json": {
       "model_id": "97836b7a961c4d61b30595008cf0fa7f",
       "version_major": 2,
       "version_minor": 0
      },
      "text/plain": [
       "S1AA_20220206T015006_20220218T015005_VVP012_INT80_G_ueF_2C19.zip:   0%|          | 0/229527273 [00:00<?, ?it/s…"
      ]
     },
     "metadata": {},
     "output_type": "display_data"
    },
    {
     "data": {
      "application/vnd.jupyter.widget-view+json": {
       "model_id": "13689f5c437743cb86edc120520c7ff3",
       "version_major": 2,
       "version_minor": 0
      },
      "text/plain": [
       "S1AA_20230824T015019_20230905T015028_VVP012_INT80_G_ueF_3D0A.zip:   0%|          | 0/168594638 [00:00<?, ?it/s…"
      ]
     },
     "metadata": {},
     "output_type": "display_data"
    },
    {
     "data": {
      "application/vnd.jupyter.widget-view+json": {
       "model_id": "ef342d8cb34c46bfbf0eb3bdb6ecd944",
       "version_major": 2,
       "version_minor": 0
      },
      "text/plain": [
       "S1AA_20220910T015015_20221004T015015_VVP024_INT80_G_ueF_53D5.zip:   0%|          | 0/232938239 [00:00<?, ?it/s…"
      ]
     },
     "metadata": {},
     "output_type": "display_data"
    },
    {
     "data": {
      "application/vnd.jupyter.widget-view+json": {
       "model_id": "eeab37ef5c094ede884965c5db495997",
       "version_major": 2,
       "version_minor": 0
      },
      "text/plain": [
       "S1AA_20231222T015018_20240115T015017_VVP024_INT80_G_ueF_0858.zip:   0%|          | 0/230455698 [00:00<?, ?it/s…"
      ]
     },
     "metadata": {},
     "output_type": "display_data"
    },
    {
     "data": {
      "application/vnd.jupyter.widget-view+json": {
       "model_id": "eceb8e0f37da492ba75c0f73eb497bfc",
       "version_major": 2,
       "version_minor": 0
      },
      "text/plain": [
       "S1AA_20230520T015014_20230601T015014_VVP012_INT80_G_ueF_0968.zip:   0%|          | 0/229601296 [00:00<?, ?it/s…"
      ]
     },
     "metadata": {},
     "output_type": "display_data"
    },
    {
     "data": {
      "application/vnd.jupyter.widget-view+json": {
       "model_id": "bae3b2ad9b9246b189e478224369ad3e",
       "version_major": 2,
       "version_minor": 0
      },
      "text/plain": [
       "S1AA_20230731T015018_20230812T015018_VVP012_INT80_G_ueF_9F8E.zip:   0%|          | 0/230712332 [00:00<?, ?it/s…"
      ]
     },
     "metadata": {},
     "output_type": "display_data"
    },
    {
     "data": {
      "application/vnd.jupyter.widget-view+json": {
       "model_id": "0f539cd97d9b444eb737e444896e13b9",
       "version_major": 2,
       "version_minor": 0
      },
      "text/plain": [
       "S1AA_20230905T015028_20230929T015020_VVP024_INT80_G_ueF_B5A2.zip:   0%|          | 0/168664605 [00:00<?, ?it/s…"
      ]
     },
     "metadata": {},
     "output_type": "display_data"
    },
    {
     "data": {
      "application/vnd.jupyter.widget-view+json": {
       "model_id": "aec9b6e18d8848acad5dab7039d2f52d",
       "version_major": 2,
       "version_minor": 0
      },
      "text/plain": [
       "S1AA_20230929T015020_20231023T015021_VVP024_INT80_G_ueF_66B5.zip:   0%|          | 0/231559954 [00:00<?, ?it/s…"
      ]
     },
     "metadata": {},
     "output_type": "display_data"
    },
    {
     "data": {
      "application/vnd.jupyter.widget-view+json": {
       "model_id": "f0c8972a12b741dcb2f4680020dc74f2",
       "version_major": 2,
       "version_minor": 0
      },
      "text/plain": [
       "S1AA_20221121T015015_20221215T015014_VVP024_INT80_G_ueF_6C31.zip:   0%|          | 0/232053794 [00:00<?, ?it/s…"
      ]
     },
     "metadata": {},
     "output_type": "display_data"
    },
    {
     "data": {
      "application/vnd.jupyter.widget-view+json": {
       "model_id": "141ae8055db54ca69ff260f16292c15e",
       "version_major": 2,
       "version_minor": 0
      },
      "text/plain": [
       "S1AA_20220113T015007_20220125T015006_VVP012_INT80_G_ueF_37B5.zip:   0%|          | 0/228872973 [00:00<?, ?it/s…"
      ]
     },
     "metadata": {},
     "output_type": "display_data"
    },
    {
     "data": {
      "application/vnd.jupyter.widget-view+json": {
       "model_id": "77216c0d35234c7bab187dbfe2e733b4",
       "version_major": 2,
       "version_minor": 0
      },
      "text/plain": [
       "S1AA_20230426T015012_20230508T015013_VVP012_INT80_G_ueF_390D.zip:   0%|          | 0/232407104 [00:00<?, ?it/s…"
      ]
     },
     "metadata": {},
     "output_type": "display_data"
    },
    {
     "data": {
      "application/vnd.jupyter.widget-view+json": {
       "model_id": "e0a53ed633d9458bb87e162393144a51",
       "version_major": 2,
       "version_minor": 0
      },
      "text/plain": [
       "S1AA_20220724T015012_20220805T015013_VVP012_INT80_G_ueF_4A66.zip:   0%|          | 0/230909263 [00:00<?, ?it/s…"
      ]
     },
     "metadata": {},
     "output_type": "display_data"
    },
    {
     "data": {
      "application/vnd.jupyter.widget-view+json": {
       "model_id": "ab1ee7573cdb4a68aab41d59d5b76e96",
       "version_major": 2,
       "version_minor": 0
      },
      "text/plain": [
       "S1AA_20230108T015013_20230201T015012_VVP024_INT80_G_ueF_3C38.zip:   0%|          | 0/229416042 [00:00<?, ?it/s…"
      ]
     },
     "metadata": {},
     "output_type": "display_data"
    },
    {
     "data": {
      "application/vnd.jupyter.widget-view+json": {
       "model_id": "add2ca3e13e841d593b62f9abae5aec1",
       "version_major": 2,
       "version_minor": 0
      },
      "text/plain": [
       "S1AA_20221203T015014_20221215T015014_VVP012_INT80_G_ueF_2DE9.zip:   0%|          | 0/230464062 [00:00<?, ?it/s…"
      ]
     },
     "metadata": {},
     "output_type": "display_data"
    },
    {
     "data": {
      "application/vnd.jupyter.widget-view+json": {
       "model_id": "7c2ffd499a5b469a9667d47b62d19c7b",
       "version_major": 2,
       "version_minor": 0
      },
      "text/plain": [
       "S1AA_20220125T015006_20220218T015005_VVP024_INT80_G_ueF_ED77.zip:   0%|          | 0/229833301 [00:00<?, ?it/s…"
      ]
     },
     "metadata": {},
     "output_type": "display_data"
    },
    {
     "data": {
      "application/vnd.jupyter.widget-view+json": {
       "model_id": "077d54a976f145d3a821225c145e4ab8",
       "version_major": 2,
       "version_minor": 0
      },
      "text/plain": [
       "S1AA_20221016T015016_20221028T015016_VVP012_INT80_G_ueF_175A.zip:   0%|          | 0/232174284 [00:00<?, ?it/s…"
      ]
     },
     "metadata": {},
     "output_type": "display_data"
    },
    {
     "data": {
      "application/vnd.jupyter.widget-view+json": {
       "model_id": "c79c8f3ad6fe41c58ca4bcccf604a305",
       "version_major": 2,
       "version_minor": 0
      },
      "text/plain": [
       "S1AA_20230225T015011_20230309T015011_VVP012_INT80_G_ueF_2A6A.zip:   0%|          | 0/230319138 [00:00<?, ?it/s…"
      ]
     },
     "metadata": {},
     "output_type": "display_data"
    },
    {
     "data": {
      "application/vnd.jupyter.widget-view+json": {
       "model_id": "a5d305164e544429aa2ef5a15252ae37",
       "version_major": 2,
       "version_minor": 0
      },
      "text/plain": [
       "S1AA_20220606T015010_20220618T015010_VVP012_INT80_G_ueF_833B.zip:   0%|          | 0/230186263 [00:00<?, ?it/s…"
      ]
     },
     "metadata": {},
     "output_type": "display_data"
    },
    {
     "data": {
      "application/vnd.jupyter.widget-view+json": {
       "model_id": "622e51b0b44e4a059adc8dc50c661e91",
       "version_major": 2,
       "version_minor": 0
      },
      "text/plain": [
       "S1AA_20220805T015013_20220829T015014_VVP024_INT80_G_ueF_B097.zip:   0%|          | 0/230148959 [00:00<?, ?it/s…"
      ]
     },
     "metadata": {},
     "output_type": "display_data"
    },
    {
     "data": {
      "application/vnd.jupyter.widget-view+json": {
       "model_id": "f44324a2986e45d8936dd288ce48275f",
       "version_major": 2,
       "version_minor": 0
      },
      "text/plain": [
       "S1AA_20220125T015006_20220206T015006_VVP012_INT80_G_ueF_0DF7.zip:   0%|          | 0/230499596 [00:00<?, ?it/s…"
      ]
     },
     "metadata": {},
     "output_type": "display_data"
    },
    {
     "data": {
      "application/vnd.jupyter.widget-view+json": {
       "model_id": "ad2d83e558ac4cb790a6a1b5189a6357",
       "version_major": 2,
       "version_minor": 0
      },
      "text/plain": [
       "S1AA_20240103T015018_20240127T015017_VVP024_INT80_G_ueF_8500.zip:   0%|          | 0/232317911 [00:00<?, ?it/s…"
      ]
     },
     "metadata": {},
     "output_type": "display_data"
    },
    {
     "data": {
      "application/vnd.jupyter.widget-view+json": {
       "model_id": "cdb7e8bc45864c28a3d3268e74caf3d6",
       "version_major": 2,
       "version_minor": 0
      },
      "text/plain": [
       "S1AA_20231104T015020_20231116T015020_VVP012_INT80_G_ueF_8D84.zip:   0%|          | 0/232718214 [00:00<?, ?it/s…"
      ]
     },
     "metadata": {},
     "output_type": "display_data"
    },
    {
     "data": {
      "application/vnd.jupyter.widget-view+json": {
       "model_id": "f9197ebdfc194d8db48aeaaf20ce7a44",
       "version_major": 2,
       "version_minor": 0
      },
      "text/plain": [
       "S1AA_20220712T015012_20220724T015012_VVP012_INT80_G_ueF_A7DC.zip:   0%|          | 0/229964196 [00:00<?, ?it/s…"
      ]
     },
     "metadata": {},
     "output_type": "display_data"
    },
    {
     "data": {
      "application/vnd.jupyter.widget-view+json": {
       "model_id": "4666f00ab830452ca36f15f906631831",
       "version_major": 2,
       "version_minor": 0
      },
      "text/plain": [
       "S1AA_20231104T015020_20231128T015019_VVP024_INT80_G_ueF_979E.zip:   0%|          | 0/230961892 [00:00<?, ?it/s…"
      ]
     },
     "metadata": {},
     "output_type": "display_data"
    },
    {
     "data": {
      "application/vnd.jupyter.widget-view+json": {
       "model_id": "8b5b1b4a93b4419dad047f493bac371f",
       "version_major": 2,
       "version_minor": 0
      },
      "text/plain": [
       "S1AA_20230508T015013_20230601T015014_VVP024_INT80_G_ueF_ABA3.zip:   0%|          | 0/231430199 [00:00<?, ?it/s…"
      ]
     },
     "metadata": {},
     "output_type": "display_data"
    },
    {
     "data": {
      "application/vnd.jupyter.widget-view+json": {
       "model_id": "1e873371333f4a31a657e3e574df440e",
       "version_major": 2,
       "version_minor": 0
      },
      "text/plain": [
       "S1AA_20231128T015019_20231210T015019_VVP012_INT80_G_ueF_D4BF.zip:   0%|          | 0/230757167 [00:00<?, ?it/s…"
      ]
     },
     "metadata": {},
     "output_type": "display_data"
    },
    {
     "data": {
      "application/vnd.jupyter.widget-view+json": {
       "model_id": "b3e17df7c65f489aaeb0f99aa95bd703",
       "version_major": 2,
       "version_minor": 0
      },
      "text/plain": [
       "S1AA_20230824T015019_20230917T015020_VVP024_INT80_G_ueF_E6F3.zip:   0%|          | 0/230632478 [00:00<?, ?it/s…"
      ]
     },
     "metadata": {},
     "output_type": "display_data"
    },
    {
     "data": {
      "application/vnd.jupyter.widget-view+json": {
       "model_id": "da8514ba9e7247c282e32a8feeb539a5",
       "version_major": 2,
       "version_minor": 0
      },
      "text/plain": [
       "S1AA_20230917T015020_20230929T015020_VVP012_INT80_G_ueF_4F84.zip:   0%|          | 0/229152886 [00:00<?, ?it/s…"
      ]
     },
     "metadata": {},
     "output_type": "display_data"
    },
    {
     "data": {
      "application/vnd.jupyter.widget-view+json": {
       "model_id": "cbae1b7fbb964e6485dc5c370f422bd6",
       "version_major": 2,
       "version_minor": 0
      },
      "text/plain": [
       "S1AA_20230402T015012_20230426T015012_VVP024_INT80_G_ueF_5AE4.zip:   0%|          | 0/230688733 [00:00<?, ?it/s…"
      ]
     },
     "metadata": {},
     "output_type": "display_data"
    },
    {
     "data": {
      "application/vnd.jupyter.widget-view+json": {
       "model_id": "ff3087c8b95f4cc48bda22c8384f6530",
       "version_major": 2,
       "version_minor": 0
      },
      "text/plain": [
       "S1AA_20240208T015016_20240220T015016_VVP012_INT80_G_ueF_E43F.zip:   0%|          | 0/232983890 [00:00<?, ?it/s…"
      ]
     },
     "metadata": {},
     "output_type": "display_data"
    },
    {
     "data": {
      "application/vnd.jupyter.widget-view+json": {
       "model_id": "033a6e660f974269909ca5b2e48c6df0",
       "version_major": 2,
       "version_minor": 0
      },
      "text/plain": [
       "S1AA_20220513T015008_20220525T015008_VVP012_INT80_G_ueF_E569.zip:   0%|          | 0/231692982 [00:00<?, ?it/s…"
      ]
     },
     "metadata": {},
     "output_type": "display_data"
    },
    {
     "name": "stdout",
     "output_type": "stream",
     "text": [
      "Extracting: /home/jovyan/la2_test/S1AA_20220922T015014_20221016T015016_VVP024_INT80_G_ueF_DF51.zip\n",
      "Extracting: /home/jovyan/la2_test/S1AA_20221028T015016_20221121T015015_VVP024_INT80_G_ueF_9641.zip\n",
      "Extracting: /home/jovyan/la2_test/S1AA_20230731T015018_20230824T015019_VVP024_INT80_G_ueF_3AA6.zip\n",
      "Extracting: /home/jovyan/la2_test/S1AA_20230812T015018_20230824T015019_VVP012_INT80_G_ueF_E305.zip\n",
      "Extracting: /home/jovyan/la2_test/S1AA_20231128T015019_20231222T015018_VVP024_INT80_G_ueF_51BF.zip\n",
      "Extracting: /home/jovyan/la2_test/S1AA_20230625T015016_20230707T015016_VVP012_INT80_G_ueF_B38F.zip\n",
      "Extracting: /home/jovyan/la2_test/S1AA_20220525T015008_20220618T015010_VVP024_INT80_G_ueF_8EB9.zip\n",
      "Extracting: /home/jovyan/la2_test/S1AA_20221215T015014_20221227T015013_VVP012_INT80_G_ueF_0CFA.zip\n",
      "Extracting: /home/jovyan/la2_test/S1AA_20230613T015015_20230707T015016_VVP024_INT80_G_ueF_168C.zip\n",
      "Extracting: /home/jovyan/la2_test/S1AA_20231222T015018_20240103T015018_VVP012_INT80_G_ueF_761E.zip\n",
      "Extracting: /home/jovyan/la2_test/S1AA_20220101T015007_20220113T015007_VVP012_INT80_G_ueF_25E3.zip\n",
      "Extracting: /home/jovyan/la2_test/S1AA_20220922T015014_20221004T015015_VVP012_INT80_G_ueF_FA1B.zip\n",
      "Extracting: /home/jovyan/la2_test/S1AA_20230917T015020_20231011T015020_VVP024_INT80_G_ueF_0E6B.zip\n",
      "Extracting: /home/jovyan/la2_test/S1AA_20230905T015028_20230917T015020_VVP012_INT80_G_ueF_053D.zip\n",
      "Extracting: /home/jovyan/la2_test/S1AA_20230601T015014_20230613T015015_VVP012_INT80_G_ueF_E9AF.zip\n",
      "Extracting: /home/jovyan/la2_test/S1AA_20220501T015007_20220513T015008_VVP012_INT80_G_ueF_98B3.zip\n",
      "Extracting: /home/jovyan/la2_test/S1AA_20230213T015011_20230309T015011_VVP024_INT80_G_ueF_24C3.zip\n",
      "Extracting: /home/jovyan/la2_test/S1AA_20221109T015015_20221203T015014_VVP024_INT80_G_ueF_CB8A.zip\n",
      "Extracting: /home/jovyan/la2_test/S1AA_20221121T015015_20221203T015014_VVP012_INT80_G_ueF_30E3.zip\n",
      "Extracting: /home/jovyan/la2_test/S1AA_20230309T015011_20230402T015012_VVP024_INT80_G_ueF_F21C.zip\n",
      "Extracting: /home/jovyan/la2_test/S1AA_20230120T015012_20230213T015011_VVP024_INT80_G_ueF_53DC.zip\n",
      "Extracting: /home/jovyan/la2_test/S1AA_20230402T015012_20230414T015012_VVP012_INT80_G_ueF_CC29.zip\n",
      "Extracting: /home/jovyan/la2_test/S1AA_20230601T015014_20230625T015016_VVP024_INT80_G_ueF_1C46.zip\n",
      "Extracting: /home/jovyan/la2_test/S1AA_20230414T015012_20230508T015013_VVP024_INT80_G_ueF_382A.zip\n",
      "Extracting: /home/jovyan/la2_test/S1AA_20231116T015020_20231210T015019_VVP024_INT80_G_ueF_0F8F.zip\n",
      "Extracting: /home/jovyan/la2_test/S1AA_20220618T015010_20220712T015012_VVP024_INT80_G_ueF_7399.zip\n",
      "Extracting: /home/jovyan/la2_test/S1AA_20220314T015005_20220407T015006_VVP024_INT80_G_ueF_A7A4.zip\n",
      "Extracting: /home/jovyan/la2_test/S1AA_20220326T015006_20220407T015006_VVP012_INT80_G_ueF_2CD8.zip\n",
      "Extracting: /home/jovyan/la2_test/S1AA_20220407T015006_20220501T015007_VVP024_INT80_G_ueF_BBFF.zip\n",
      "Extracting: /home/jovyan/la2_test/S1AA_20230426T015012_20230520T015014_VVP024_INT80_G_ueF_D9A3.zip\n",
      "Extracting: /home/jovyan/la2_test/S1AA_20231116T015020_20231128T015019_VVP012_INT80_G_ueF_A3D7.zip\n",
      "Extracting: /home/jovyan/la2_test/S1AA_20220407T015006_20220419T015006_VVP012_INT80_G_ueF_1641.zip\n",
      "Extracting: /home/jovyan/la2_test/S1AA_20220501T015007_20220525T015008_VVP024_INT80_G_ueF_C6C8.zip\n",
      "Extracting: /home/jovyan/la2_test/S1AA_20221004T015015_20221028T015016_VVP024_INT80_G_ueF_F542.zip\n",
      "Extracting: /home/jovyan/la2_test/S1AA_20220817T015014_20220910T015015_VVP024_INT80_G_ueF_2210.zip\n",
      "Extracting: /home/jovyan/la2_test/S1AA_20230321T015011_20230414T015012_VVP024_INT80_G_ueF_6ECB.zip\n",
      "Extracting: /home/jovyan/la2_test/S1AA_20240115T015017_20240208T015016_VVP024_INT80_G_ueF_05D4.zip\n",
      "Extracting: /home/jovyan/la2_test/S1AA_20221227T015013_20230108T015013_VVP012_INT80_G_ueF_A100.zip\n",
      "Extracting: /home/jovyan/la2_test/S1AA_20220101T015007_20220125T015006_VVP024_INT80_G_ueF_F3BD.zip\n",
      "Extracting: /home/jovyan/la2_test/S1AA_20230613T015015_20230625T015016_VVP012_INT80_G_ueF_AA43.zip\n",
      "Extracting: /home/jovyan/la2_test/S1AA_20220817T015014_20220829T015014_VVP012_INT80_G_ueF_C638.zip\n",
      "Extracting: /home/jovyan/la2_test/S1AA_20230213T015011_20230225T015011_VVP012_INT80_G_ueF_1BC9.zip\n",
      "Extracting: /home/jovyan/la2_test/S1AA_20230707T015016_20230731T015018_VVP024_INT80_G_ueF_1EF7.zip\n",
      "Extracting: /home/jovyan/la2_test/S1AA_20230309T015011_20230321T015011_VVP012_INT80_G_ueF_0E7C.zip\n",
      "Extracting: /home/jovyan/la2_test/S1AA_20230414T015012_20230426T015012_VVP012_INT80_G_ueF_DBC2.zip\n",
      "Extracting: /home/jovyan/la2_test/S1AA_20231011T015020_20231023T015021_VVP012_INT80_G_ueF_6F95.zip\n",
      "Extracting: /home/jovyan/la2_test/S1AA_20230120T015012_20230201T015012_VVP012_INT80_G_ueF_0B7A.zip\n",
      "Extracting: /home/jovyan/la2_test/S1AA_20231011T015020_20231104T015020_VVP024_INT80_G_ueF_3C51.zip\n",
      "Extracting: /home/jovyan/la2_test/S1AA_20230201T015012_20230225T015011_VVP024_INT80_G_ueF_8CB9.zip\n",
      "Extracting: /home/jovyan/la2_test/S1AA_20221028T015016_20221109T015015_VVP012_INT80_G_ueF_237C.zip\n",
      "Extracting: /home/jovyan/la2_test/S1AA_20220419T015006_20220501T015007_VVP012_INT80_G_ueF_1E94.zip\n",
      "Extracting: /home/jovyan/la2_test/S1AA_20221203T015014_20221227T015013_VVP024_INT80_G_ueF_8576.zip\n",
      "Extracting: /home/jovyan/la2_test/S1AA_20220525T015008_20220606T015010_VVP012_INT80_G_ueF_87C9.zip\n",
      "Extracting: /home/jovyan/la2_test/S1AA_20221227T015013_20230120T015012_VVP024_INT80_G_ueF_E692.zip\n",
      "Extracting: /home/jovyan/la2_test/S1AA_20240127T015017_20240220T015016_VVP024_INT80_G_ueF_8C8C.zip\n",
      "Extracting: /home/jovyan/la2_test/S1AA_20221109T015015_20221121T015015_VVP012_INT80_G_ueF_B5FC.zip\n",
      "Extracting: /home/jovyan/la2_test/S1AA_20231210T015019_20231222T015018_VVP012_INT80_G_ueF_11E6.zip\n",
      "Extracting: /home/jovyan/la2_test/S1AA_20231210T015019_20240103T015018_VVP024_INT80_G_ueF_DB45.zip\n",
      "Extracting: /home/jovyan/la2_test/S1AA_20230929T015020_20231011T015020_VVP012_INT80_G_ueF_CCB0.zip\n",
      "Extracting: /home/jovyan/la2_test/S1AA_20220712T015012_20220805T015013_VVP024_INT80_G_ueF_6728.zip\n",
      "Extracting: /home/jovyan/la2_test/S1AA_20220326T015006_20220419T015006_VVP024_INT80_G_ueF_6DB6.zip\n",
      "Extracting: /home/jovyan/la2_test/S1AA_20221215T015014_20230108T015013_VVP024_INT80_G_ueF_872E.zip\n",
      "Extracting: /home/jovyan/la2_test/S1AA_20220724T015012_20220817T015014_VVP024_INT80_G_ueF_87E7.zip\n",
      "Extracting: /home/jovyan/la2_test/S1AA_20220910T015015_20220922T015014_VVP012_INT80_G_ueF_2ACC.zip\n",
      "Extracting: /home/jovyan/la2_test/S1AA_20230508T015013_20230520T015014_VVP012_INT80_G_ueF_5617.zip\n",
      "Extracting: /home/jovyan/la2_test/S1AA_20220829T015014_20220910T015015_VVP012_INT80_G_ueF_A96C.zip\n",
      "Extracting: /home/jovyan/la2_test/S1AA_20221016T015016_20221109T015015_VVP024_INT80_G_ueF_DBB9.zip\n",
      "Extracting: /home/jovyan/la2_test/S1AA_20230225T015011_20230321T015011_VVP024_INT80_G_ueF_9408.zip\n",
      "Extracting: /home/jovyan/la2_test/S1AA_20220314T015005_20220326T015006_VVP012_INT80_G_ueF_DFAC.zip\n",
      "Extracting: /home/jovyan/la2_test/S1AA_20220113T015007_20220206T015006_VVP024_INT80_G_ueF_8CA4.zip\n",
      "Extracting: /home/jovyan/la2_test/S1AA_20230201T015012_20230213T015011_VVP012_INT80_G_ueF_7ED4.zip\n",
      "Extracting: /home/jovyan/la2_test/S1AA_20240115T015017_20240127T015017_VVP012_INT80_G_ueF_F014.zip\n",
      "Extracting: /home/jovyan/la2_test/S1AA_20240127T015017_20240208T015016_VVP012_INT80_G_ueF_A5C1.zip\n",
      "Extracting: /home/jovyan/la2_test/S1AA_20220218T015005_20220314T015005_VVP024_INT80_G_ueF_7C02.zip\n",
      "Extracting: /home/jovyan/la2_test/S1AA_20220606T015010_20220630T015011_VVP024_INT80_G_ueF_7FBE.zip\n",
      "Extracting: /home/jovyan/la2_test/S1AA_20220829T015014_20220922T015014_VVP024_INT80_G_ueF_178D.zip\n",
      "Extracting: /home/jovyan/la2_test/S1AA_20231023T015021_20231104T015020_VVP012_INT80_G_ueF_7CFF.zip\n",
      "Extracting: /home/jovyan/la2_test/S1AA_20220618T015010_20220630T015011_VVP012_INT80_G_ueF_F678.zip\n",
      "Extracting: /home/jovyan/la2_test/S1AA_20230812T015018_20230905T015028_VVP024_INT80_G_ueF_E595.zip\n",
      "Extracting: /home/jovyan/la2_test/S1AA_20231023T015021_20231116T015020_VVP024_INT80_G_ueF_FE61.zip\n",
      "Extracting: /home/jovyan/la2_test/S1AA_20220419T015006_20220513T015008_VVP024_INT80_G_ueF_B4E7.zip\n",
      "Extracting: /home/jovyan/la2_test/S1AA_20230108T015013_20230120T015012_VVP012_INT80_G_ueF_8148.zip\n",
      "Extracting: /home/jovyan/la2_test/S1AA_20220630T015011_20220712T015012_VVP012_INT80_G_ueF_C9F7.zip\n",
      "Extracting: /home/jovyan/la2_test/S1AA_20230520T015014_20230613T015015_VVP024_INT80_G_ueF_ADF5.zip\n",
      "Extracting: /home/jovyan/la2_test/S1AA_20221004T015015_20221016T015016_VVP012_INT80_G_ueF_12DB.zip\n",
      "Extracting: /home/jovyan/la2_test/S1AA_20220805T015013_20220817T015014_VVP012_INT80_G_ueF_3EEC.zip\n",
      "Extracting: /home/jovyan/la2_test/S1AA_20240103T015018_20240115T015017_VVP012_INT80_G_ueF_AC12.zip\n",
      "Extracting: /home/jovyan/la2_test/S1AA_20220630T015011_20220724T015012_VVP024_INT80_G_ueF_A64B.zip\n",
      "Extracting: /home/jovyan/la2_test/S1AA_20230321T015011_20230402T015012_VVP012_INT80_G_ueF_A42D.zip\n",
      "Extracting: /home/jovyan/la2_test/S1AA_20220513T015008_20220606T015010_VVP024_INT80_G_ueF_8DE0.zip\n",
      "Extracting: /home/jovyan/la2_test/S1AA_20220206T015006_20220218T015005_VVP012_INT80_G_ueF_2C19.zip\n",
      "Extracting: /home/jovyan/la2_test/S1AA_20230824T015019_20230905T015028_VVP012_INT80_G_ueF_3D0A.zip\n",
      "Extracting: /home/jovyan/la2_test/S1AA_20220910T015015_20221004T015015_VVP024_INT80_G_ueF_53D5.zip\n",
      "Extracting: /home/jovyan/la2_test/S1AA_20231222T015018_20240115T015017_VVP024_INT80_G_ueF_0858.zip\n",
      "Extracting: /home/jovyan/la2_test/S1AA_20230520T015014_20230601T015014_VVP012_INT80_G_ueF_0968.zip\n",
      "Extracting: /home/jovyan/la2_test/S1AA_20230731T015018_20230812T015018_VVP012_INT80_G_ueF_9F8E.zip\n",
      "Extracting: /home/jovyan/la2_test/S1AA_20230905T015028_20230929T015020_VVP024_INT80_G_ueF_B5A2.zip\n",
      "Extracting: /home/jovyan/la2_test/S1AA_20230929T015020_20231023T015021_VVP024_INT80_G_ueF_66B5.zip\n",
      "Extracting: /home/jovyan/la2_test/S1AA_20221121T015015_20221215T015014_VVP024_INT80_G_ueF_6C31.zip\n",
      "Extracting: /home/jovyan/la2_test/S1AA_20220113T015007_20220125T015006_VVP012_INT80_G_ueF_37B5.zip\n",
      "Extracting: /home/jovyan/la2_test/S1AA_20230426T015012_20230508T015013_VVP012_INT80_G_ueF_390D.zip\n",
      "Extracting: /home/jovyan/la2_test/S1AA_20220724T015012_20220805T015013_VVP012_INT80_G_ueF_4A66.zip\n",
      "Extracting: /home/jovyan/la2_test/S1AA_20230108T015013_20230201T015012_VVP024_INT80_G_ueF_3C38.zip\n",
      "Extracting: /home/jovyan/la2_test/S1AA_20221203T015014_20221215T015014_VVP012_INT80_G_ueF_2DE9.zip\n",
      "Extracting: /home/jovyan/la2_test/S1AA_20220125T015006_20220218T015005_VVP024_INT80_G_ueF_ED77.zip\n",
      "Extracting: /home/jovyan/la2_test/S1AA_20221016T015016_20221028T015016_VVP012_INT80_G_ueF_175A.zip\n",
      "Extracting: /home/jovyan/la2_test/S1AA_20230225T015011_20230309T015011_VVP012_INT80_G_ueF_2A6A.zip\n",
      "Extracting: /home/jovyan/la2_test/S1AA_20220606T015010_20220618T015010_VVP012_INT80_G_ueF_833B.zip\n",
      "Extracting: /home/jovyan/la2_test/S1AA_20220805T015013_20220829T015014_VVP024_INT80_G_ueF_B097.zip\n",
      "Extracting: /home/jovyan/la2_test/S1AA_20220125T015006_20220206T015006_VVP012_INT80_G_ueF_0DF7.zip\n",
      "Extracting: /home/jovyan/la2_test/S1AA_20240103T015018_20240127T015017_VVP024_INT80_G_ueF_8500.zip\n",
      "Extracting: /home/jovyan/la2_test/S1AA_20231104T015020_20231116T015020_VVP012_INT80_G_ueF_8D84.zip\n",
      "Extracting: /home/jovyan/la2_test/S1AA_20220712T015012_20220724T015012_VVP012_INT80_G_ueF_A7DC.zip\n",
      "Extracting: /home/jovyan/la2_test/S1AA_20231104T015020_20231128T015019_VVP024_INT80_G_ueF_979E.zip\n",
      "Extracting: /home/jovyan/la2_test/S1AA_20230508T015013_20230601T015014_VVP024_INT80_G_ueF_ABA3.zip\n",
      "Extracting: /home/jovyan/la2_test/S1AA_20231128T015019_20231210T015019_VVP012_INT80_G_ueF_D4BF.zip\n",
      "Extracting: /home/jovyan/la2_test/S1AA_20230824T015019_20230917T015020_VVP024_INT80_G_ueF_E6F3.zip\n",
      "Extracting: /home/jovyan/la2_test/S1AA_20230917T015020_20230929T015020_VVP012_INT80_G_ueF_4F84.zip\n",
      "Extracting: /home/jovyan/la2_test/S1AA_20230402T015012_20230426T015012_VVP024_INT80_G_ueF_5AE4.zip\n",
      "Extracting: /home/jovyan/la2_test/S1AA_20240208T015016_20240220T015016_VVP012_INT80_G_ueF_E43F.zip\n",
      "Extracting: /home/jovyan/la2_test/S1AA_20220513T015008_20220525T015008_VVP012_INT80_G_ueF_E569.zip\n"
     ]
    }
   ],
   "source": [
    "print(f\"\\nProject: {jobs.jobs[0].name}\")\n",
    "project_zips = jobs.download_files(data_path)\n",
    "for z in project_zips:\n",
    "    osl.asf_unzip(str(data_path), str(z))\n",
    "    z.unlink()"
   ]
  },
  {
   "cell_type": "markdown",
   "id": "3346ad90-3426-480a-ae36-29366788e45d",
   "metadata": {},
   "source": [
    "---\n",
    "\n",
    "## 3. Confirm Presence of a DEM, Azimuth Angle Map, and Incidence Angle Map\n",
    "\n",
    "- These are optional addon products for HyP3, which are necessary for MintPy\n",
    "    - Incidence angle maps are included with HyP3 jobs when the `Include Look Vectors` option is selected.\n",
    "    - DEMs are included with HyP3 jobs when the `Include DEM` option is selected\n",
    "- This is an optional addon product for HyP3, which is necessary for MintPy if running the correct_SET (Solid Earth Tides) step\n",
    "    - Azimuth angle maps are included with HyP3 jobs when the `Include Look Vectors` option is selected\n",
    "\n",
    "**All of the above mentioned files will be included in an InSAR project if Set MintPy Options is selected when adding InSAR jobs to a project in ASF-Search (Vertex)**"
   ]
  },
  {
   "cell_type": "code",
   "execution_count": 18,
   "id": "e9799fd1-b252-4515-8b23-40780376b58f",
   "metadata": {},
   "outputs": [
    {
     "name": "stdout",
     "output_type": "stream",
     "text": [
      "Success: Found at least 1 DEM.\n",
      "Success: Found at least 1 Azimuth Angle Map.\n",
      "Success: Found at least 1 Incidence Angle Map.\n"
     ]
    }
   ],
   "source": [
    "dems = list(data_path.glob('*/*dem*.tif'))\n",
    "az_angle_maps = list(data_path.glob('*/*lv_phi*.tif'))\n",
    "inc_angle_maps = list(data_path.glob('*/*lv_theta*.tif'))\n",
    "\n",
    "if len(dems) > 0:\n",
    "    print(\"Success: Found at least 1 DEM.\")\n",
    "else:\n",
    "    raise FileNotFoundError(\"Failed to find at least 1 DEM.\\n\"\n",
    "                            \"You will not be able to successfully run a MintPy time-series unless you\"\n",
    "                            \"reorder your HyP3 project with DEMS or provide one from another source.\")\n",
    "                            \n",
    "if len(az_angle_maps) > 0:\n",
    "    print(\"Success: Found at least 1 Azimuth Angle Map.\")\n",
    "else:\n",
    "    raise FileNotFoundError(\"Failed to find at least 1 Azimuth Angle Map.\\n\"\n",
    "                            \"You will not be able to successfully run a MintPy time-series unless your\"\n",
    "                            \"reorder your HyP3 project with 'Include Look Vectors' option selected.\")\n",
    "    \n",
    "if len(inc_angle_maps) > 0:\n",
    "    print(\"Success: Found at least 1 Incidence Angle Map.\")\n",
    "else:\n",
    "    raise FileNotFoundError(\"Failed to find at least 1 Incidence Angle Map.\\n\"\n",
    "                            \"You will not be able to successfully run a MintPy time-series unless your\"\n",
    "                            \"reorder your HyP3 project with 'Include Inc. Angle Map' option selected.\")"
   ]
  },
  {
   "cell_type": "markdown",
   "id": "48e233a7-32fe-4404-a536-a4b2827460b8",
   "metadata": {},
   "source": [
    "---\n",
    "## 4. Subset the Stack\n",
    "\n",
    "**Project all tiffs to Predominant UTM**"
   ]
  },
  {
   "cell_type": "code",
   "execution_count": 19,
   "id": "5d2d85ad-a4c3-48ae-b0ab-3e2c307464c4",
   "metadata": {},
   "outputs": [],
   "source": [
    "dems.sort()\n",
    "burst = 'BURST' in product_type\n",
    "if not burst:\n",
    "    epsgs = util.get_projections(dems)\n",
    "    predominant_epsg = None if len(epsgs) == 1 else max(epsgs, key=epsgs.get)\n",
    "    \n",
    "    if predominant_epsg:\n",
    "        for pth in dems:\n",
    "            src_SRS = util.get_projection(str(pth))\n",
    "            res = util.get_res(pth)\n",
    "            if src_SRS != predominant_epsg:\n",
    "                res = util.get_res(pth)\n",
    "                no_data_val = util.get_no_data_val(pth)\n",
    "        \n",
    "                temp = pth.parent/f\"temp_{pth.stem}.tif\"\n",
    "                pth.rename(temp)\n",
    "    \n",
    "                warp_options = {\n",
    "                    \"dstSRS\":f\"EPSG:{predominant_epsg}\", \"srcSRS\":f\"EPSG:{src_SRS}\",\n",
    "                    \"targetAlignedPixels\":True,\n",
    "                    \"xRes\":res, \"yRes\":res,\n",
    "                    \"dstNodata\": no_data_val\n",
    "                }\n",
    "                gdal.Warp(str(pth), str(temp), **warp_options)\n",
    "                temp.unlink()\n"
   ]
  },
  {
   "cell_type": "markdown",
   "id": "cc8c848d-3ae3-4b04-aef5-51d346cd88d9",
   "metadata": {},
   "source": [
    "**Determine the maximum and common extents of the stack and plot an Area-of_Interest Selector:**"
   ]
  },
  {
   "cell_type": "code",
   "execution_count": 20,
   "id": "cde455e0-be45-4dd5-b48d-1fec72086c7c",
   "metadata": {},
   "outputs": [
    {
     "name": "stdout",
     "output_type": "stream",
     "text": [
      "Maximum Extents: [-13228915.81210509, 3763265.45863514, -12874745.91563535, 4060869.7979775993]\n",
      "Pixels in this area are guaranteed to be included in at least one interferogram in the stack.\n",
      "\n",
      "\n",
      "Common Extents: [-13228135.738714725, 3829173.661251133, -12887318.18595182, 4060481.943916891]\n",
      "Pixels in this area are guaranteed to included in every interferogram in the stack.\n",
      "\n",
      "\n",
      "Select an AOI inside the common area covered by the stack.\n"
     ]
    },
    {
     "data": {
      "application/vnd.jupyter.widget-view+json": {
       "model_id": "98952e35e62e4df4898241d2b735d993",
       "version_major": 2,
       "version_minor": 0
      },
      "image/png": "[encoded data removed]",
      "text/html": [
       "\n",
       "            <div style=\"display: inline-block;\">\n",
       "                <div class=\"jupyter-widgets widget-label\" style=\"text-align: center;\">\n",
       "                    Figure\n",
       "                </div>\n",
       "                <img src='data:image/png;base64,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' width=1000.0/>\n",
       "            </div>\n",
       "        "
      ],
      "text/plain": [
       "Canvas(toolbar=Toolbar(toolitems=[('Home', 'Reset original view', 'home', 'home'), ('Back', 'Back to previous …"
      ]
     },
     "metadata": {},
     "output_type": "display_data"
    }
   ],
   "source": [
    "max_extents = osl.get_max_extents(dems)\n",
    "xmin, ymin, xmax, ymax = transform_bounds(int(osl.get_projection(str(dems[0]))), 3857, *max_extents)\n",
    "max_extents = [xmin, ymin, xmax, ymax]\n",
    "\n",
    "common_extents = osl.get_common_coverage_extents(dems)\n",
    "xmin, ymin, xmax, ymax = transform_bounds(int(osl.get_projection(str(dems[0]))), 3857, *common_extents)\n",
    "common_extents = [xmin, ymin, xmax, ymax]\n",
    "\n",
    "print(f\"Maximum Extents: {max_extents}\")\n",
    "print(\"Pixels in this area are guaranteed to be included in at least one interferogram in the stack.\\n\\n\")\n",
    "\n",
    "print(f\"Common Extents: {common_extents}\")\n",
    "print(\"Pixels in this area are guaranteed to included in every interferogram in the stack.\\n\\n\")\n",
    "\n",
    "print(f\"Select an AOI inside the common area covered by the stack.\")\n",
    "\n",
    "aoi = osl.AOI_Selector(max_extents, common_extents, figsize=(10, 8))"
   ]
  },
  {
   "cell_type": "markdown",
   "id": "a13ad4d8-6550-45bc-8a09-31e644ee6a8e",
   "metadata": {},
   "source": [
    "**Convert the subset corner coordinates from Web-Mercator back to the input data's EPSG:** "
   ]
  },
  {
   "cell_type": "code",
   "execution_count": 21,
   "id": "7b10b607-8d3e-4b49-a029-ebb0a770fa1f",
   "metadata": {},
   "outputs": [
    {
     "name": "stdout",
     "output_type": "stream",
     "text": [
      "AOI Corner Coordinates:\n",
      "upper left corner: [331832.0278942574, 3786536.1754926303]\n",
      "lower right corner: [497373.76792008756, 3646539.2721163356]\n"
     ]
    }
   ],
   "source": [
    "try:\n",
    "    xmin, ymin, xmax, ymax = transform_bounds(3857, \n",
    "                                          int(osl.get_projection(str(dems[0]))), \n",
    "                                          *[aoi.x1, aoi.y1, aoi.x2, aoi.y2])\n",
    "    ul = [xmin, ymax]\n",
    "    lr = [xmax, ymin]\n",
    "    print(f\"AOI Corner Coordinates:\")\n",
    "    print(f\"upper left corner: {ul}\")\n",
    "    print(f\"lower right corner: {lr}\")\n",
    "except TypeError:\n",
    "    print('TypeError')\n",
    "    display(Markdown(f'<text style=color:red>This error may occur if an AOI was not selected.</text>'))\n",
    "    display(Markdown(f'<text style=color:red>Note that the square tool icon in the AOI selector menu is <b>NOT</b> the selection tool. It is the zoom tool.</text>'))"
   ]
  },
  {
   "cell_type": "markdown",
   "id": "c110de7d-d93d-40fa-ae3e-969c30088730",
   "metadata": {},
   "source": [
    "**Crop the stack to the AOI:**"
   ]
  },
  {
   "cell_type": "code",
   "execution_count": 22,
   "id": "5677b775-aa86-4db0-bf17-4996aebbf250",
   "metadata": {},
   "outputs": [],
   "source": [
    "fnames = list(data_path.glob('*/*.tif'))\n",
    "fnames = [f for f in fnames if osl.get_projection(f) == osl.get_projection(dems[0])]\n",
    "fnames.sort()\n",
    "\n",
    "for i, fname in enumerate(fnames):\n",
    "    clip = fname.parent/f\"{fname.stem}_clip.tif\"\n",
    "    gdal.Translate(destName=str(clip), srcDS=str(fname), projWin=[ul[0], ul[1], lr[0], lr[1]])\n",
    "    fname.unlink() "
   ]
  },
  {
   "cell_type": "markdown",
   "id": "da7df9d9-04bf-494e-b162-8cfa7416ba4e",
   "metadata": {},
   "source": [
    "**Remove any subset scenes containing no data:**"
   ]
  },
  {
   "cell_type": "code",
   "execution_count": 23,
   "id": "f8737133-8480-44d7-aeea-f7a7719f7e25",
   "metadata": {},
   "outputs": [
    {
     "name": "stdout",
     "output_type": "stream",
     "text": [
      "No Geotiffs were removed\n"
     ]
    }
   ],
   "source": [
    "fnames = list(data_path.glob('*/*.tif'))\n",
    "fnames = [str(f) for f in fnames]\n",
    "fnames.sort()\n",
    "\n",
    "removed = []\n",
    "for f in fnames:\n",
    "    raster = gdal.Open(f)\n",
    "    if raster:\n",
    "        band = raster.ReadAsArray()\n",
    "        if np.count_nonzero(band) < 1:\n",
    "            Path(f).unlink()\n",
    "            removed.append(f)\n",
    "\n",
    "if len(removed) == 0:\n",
    "    print(\"No Geotiffs were removed\")\n",
    "else:\n",
    "    print(f\"{len(removed)} GeoTiffs removed:\")\n",
    "    for f in removed:\n",
    "        print(f)"
   ]
  },
  {
   "cell_type": "code",
   "execution_count": null,
   "id": "20888840-21ea-4496-b4f4-ad183f9ef7c7",
   "metadata": {},
   "outputs": [],
   "source": []
  }
 ],
 "metadata": {
  "kernelspec": {
   "display_name": "Python [conda env:.local-opensarlab_mintpy_recipe_book]",
   "language": "python",
   "name": "conda-env-.local-opensarlab_mintpy_recipe_book-py"
  },
  "language_info": {
   "codemirror_mode": {
    "name": "ipython",
    "version": 3
   },
   "file_extension": ".py",
   "mimetype": "text/x-python",
   "name": "python",
   "nbconvert_exporter": "python",
   "pygments_lexer": "ipython3",
   "version": "3.9.0"
  }
 },
 "nbformat": 4,
 "nbformat_minor": 5
}
