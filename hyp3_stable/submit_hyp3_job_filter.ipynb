{
 "cells": [
  {
   "cell_type": "code",
   "execution_count": 1,
   "id": "dddda1e7-94d9-4885-a2f9-35e8b7a9b478",
   "metadata": {},
   "outputs": [],
   "source": [
    "from pathlib import Path\n",
    "from dateutil.parser import parse as parse_date"
   ]
  },
  {
   "cell_type": "code",
   "execution_count": 2,
   "id": "bea9581c-5bdf-4642-9a33-8e83f3ade34d",
   "metadata": {},
   "outputs": [],
   "source": [
    "project_name = 'CA_144_476'\n",
    "work_dir = Path.cwd() / project_name\n",
    "data_dir = work_dir / 'data'\n",
    "\n",
    "stack_start = parse_date('2017-08-01 00:00:00Z')\n",
    "stack_end = parse_date('2022-03-11 00:00:00Z')\n",
    "max_temporal_baseline = 30 #days\n",
    "\n",
    "data_dir.mkdir(parents=True, exist_ok=True)"
   ]
  },
  {
   "cell_type": "code",
   "execution_count": 3,
   "id": "ec1539d8-7194-4e34-abcd-81e21b1aab9a",
   "metadata": {},
   "outputs": [],
   "source": [
    "import asf_search as asf"
   ]
  },
  {
   "cell_type": "code",
   "execution_count": 4,
   "id": "3d56147c-b33c-49e5-9a3d-cccdee45a531",
   "metadata": {},
   "outputs": [],
   "source": [
    "import pandas as pd"
   ]
  },
  {
   "cell_type": "code",
   "execution_count": 5,
   "id": "c92aee30-3f45-4226-be81-80e43c9b5f93",
   "metadata": {},
   "outputs": [
    {
     "name": "stderr",
     "output_type": "stream",
     "text": [
      "/home/jovyan/.local/envs/opensarlab_mintpy_recipe_book-3/lib/python3.9/site-packages/tzlocal/unix.py:193: UserWarning: Can not find any timezone configuration, defaulting to UTC.\n",
      "  warnings.warn(\"Can not find any timezone configuration, defaulting to UTC.\")\n"
     ]
    }
   ],
   "source": [
    "# filter the Sentinel-1B data\n",
    "aoi = 'POLYGON((-121.9936 33.1227,-117.5164 33.1227,-117.5164 36.191,-121.9936 36.191,-121.9936 33.1227))'\n",
    "search_results = asf.geo_search(\n",
    "        platform=asf.PLATFORM.SENTINEL1A,\n",
    "        intersectsWith=aoi,\n",
    "        start='2017-08-01',\n",
    "        end='2022-03-11',\n",
    "        processingLevel=asf.PRODUCT_TYPE.SLC,\n",
    "        beamSwath='IW',\n",
    "        flightDirection=asf.FLIGHT_DIRECTION.DESCENDING,\n",
    "        relativeOrbit=144,\n",
    "        asfFrame=476 \n",
    "    )"
   ]
  },
  {
   "cell_type": "code",
   "execution_count": 6,
   "id": "e9c8cb76-0728-46bd-a076-aa9bf0590ca0",
   "metadata": {},
   "outputs": [],
   "source": [
    "with open(\"search_results1.csv\", \"w\") as f:\n",
    "   f.writelines(search_results.csv())"
   ]
  },
  {
   "cell_type": "code",
   "execution_count": 7,
   "id": "9a20f877-f87a-4322-a0a9-7601f317359b",
   "metadata": {},
   "outputs": [],
   "source": [
    "baseline_results = asf.baseline_search.stack_from_product(search_results[-1])\n",
    "\n",
    "columns = list(baseline_results[0].properties.keys()) + ['geometry', ]\n",
    "data = [list(scene.properties.values()) + [scene.geometry, ] for scene in baseline_results]\n",
    "\n",
    "stack = pd.DataFrame(data, columns=columns)\n",
    "stack['startTime'] = stack.startTime.apply(parse_date)\n",
    "\n",
    "stack = stack.loc[(stack_start <= stack.startTime) & (stack.startTime <= stack_end)]"
   ]
  },
  {
   "cell_type": "code",
   "execution_count": 8,
   "id": "0e5bc84c-cfcf-4a6d-b64e-c586518e4bad",
   "metadata": {},
   "outputs": [],
   "source": [
    "# somewhat \"stack\" contains Sentinel-1B data\n",
    "stack.to_csv('stack.csv',index=False)"
   ]
  },
  {
   "cell_type": "code",
   "execution_count": 9,
   "id": "06979187-7437-445d-83cb-d6fbbc9b8274",
   "metadata": {},
   "outputs": [],
   "source": [
    "# drop column content equal to Sentinel-1B\n",
    "stack_filtered = stack[stack['granuleType'] != 'SENTINEL_1B_FRAME']\n",
    "stack_filtered.to_csv('stack_filtered.csv',index=False)"
   ]
  },
  {
   "cell_type": "code",
   "execution_count": 12,
   "id": "b0bc918d-03fb-4644-b325-3876a5e68b6c",
   "metadata": {},
   "outputs": [],
   "source": [
    "sbas_pairs = set()\n",
    "\n",
    "for reference, rt in stack_filtered.loc[::-1, ['sceneName', 'temporalBaseline']].itertuples(index=False):\n",
    "    secondaries = stack_filtered.loc[\n",
    "        (stack_filtered.sceneName != reference)\n",
    "        & (stack_filtered.temporalBaseline - rt <= max_temporal_baseline)\n",
    "        & (stack_filtered.temporalBaseline - rt > 0)\n",
    "    ]\n",
    "    for secondary in secondaries.sceneName:\n",
    "        sbas_pairs.add((reference, secondary))"
   ]
  },
  {
   "cell_type": "code",
   "execution_count": 13,
   "id": "656a2633-aad2-4073-8654-73b735358926",
   "metadata": {},
   "outputs": [
    {
     "data": {
      "text/plain": [
       "269"
      ]
     },
     "execution_count": 13,
     "metadata": {},
     "output_type": "execute_result"
    }
   ],
   "source": [
    "len(sbas_pairs)"
   ]
  },
  {
   "cell_type": "code",
   "execution_count": 23,
   "id": "ff1bbe65-74a7-4a11-8164-0e714eeeb968",
   "metadata": {},
   "outputs": [
    {
     "name": "stdin",
     "output_type": "stream",
     "text": [
      "NASA Earthdata Login username:  vickielee333\n",
      "NASA Earthdata Login password:  ········\n"
     ]
    }
   ],
   "source": [
    "import hyp3_sdk as sdk\n",
    "hyp3 = sdk.HyP3(prompt=True)"
   ]
  },
  {
   "cell_type": "code",
   "execution_count": 24,
   "id": "13b61e7b-c646-4d30-a548-1b228080759d",
   "metadata": {},
   "outputs": [],
   "source": [
    "jobs = sdk.Batch()\n",
    "for reference, secondary in sbas_pairs:\n",
    "    jobs += hyp3.submit_insar_job(reference, secondary, name=project_name,\n",
    "                                  include_dem=True, include_look_vectors=True)"
   ]
  },
  {
   "cell_type": "code",
   "execution_count": null,
   "id": "f7e1ab6f-4256-459e-96e6-f1688fe05e6d",
   "metadata": {},
   "outputs": [],
   "source": [
    "jobs = hyp3.watch(jobs)"
   ]
  }
 ],
 "metadata": {
  "kernelspec": {
   "display_name": "Python 3 (ipykernel)",
   "language": "python",
   "name": "python3"
  },
  "language_info": {
   "codemirror_mode": {
    "name": "ipython",
    "version": 3
   },
   "file_extension": ".py",
   "mimetype": "text/x-python",
   "name": "python",
   "nbconvert_exporter": "python",
   "pygments_lexer": "ipython3",
   "version": "3.11.7"
  }
 },
 "nbformat": 4,
 "nbformat_minor": 5
}
