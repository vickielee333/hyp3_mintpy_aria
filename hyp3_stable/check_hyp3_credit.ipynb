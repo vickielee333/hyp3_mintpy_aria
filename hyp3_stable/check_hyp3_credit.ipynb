{
 "cells": [
  {
   "cell_type": "code",
   "execution_count": 1,
   "id": "8e40659a-02b6-4517-ba29-1f33d8d1e0ab",
   "metadata": {},
   "outputs": [
    {
     "name": "stdin",
     "output_type": "stream",
     "text": [
      "NASA Earthdata Login username:  vickielee333\n",
      "NASA Earthdata Login password:  ········\n"
     ]
    },
    {
     "name": "stdout",
     "output_type": "stream",
     "text": [
      "155\n",
      "1550\n"
     ]
    }
   ],
   "source": [
    "import hyp3_sdk as sdk\n",
    "hyp3 = sdk.HyP3(prompt=True)\n",
    "\n",
    "# get credits remaining for the current month\n",
    "hyp3.check_credits()\n",
    "\n",
    "# get all jobs run this month\n",
    "jobs = hyp3.find_jobs(start='2024-04-01T00:00:00Z')\n",
    "\n",
    "# count of jobs run this month\n",
    "print(len(jobs))\n",
    "\n",
    "# total credits spent this month\n",
    "print(sum([job.credit_cost for job in jobs]))\n",
    "\n",
    "# total processing time used this month\n",
    "#print(sum([sum(job.processing_times) for job in jobs]))\n"
   ]
  },
  {
   "cell_type": "code",
   "execution_count": null,
   "id": "dd972b67-b9ee-4dd3-bb2c-c1868d7a61b8",
   "metadata": {},
   "outputs": [],
   "source": []
  },
  {
   "cell_type": "code",
   "execution_count": null,
   "id": "fe3f0f9c-3462-453a-8ac6-b6ccc1de7633",
   "metadata": {},
   "outputs": [],
   "source": []
  }
 ],
 "metadata": {
  "kernelspec": {
   "display_name": "hyp3-mintpy",
   "language": "python",
   "name": "hyp3-mintpy"
  },
  "language_info": {
   "codemirror_mode": {
    "name": "ipython",
    "version": 3
   },
   "file_extension": ".py",
   "mimetype": "text/x-python",
   "name": "python",
   "nbconvert_exporter": "python",
   "pygments_lexer": "ipython3",
   "version": "3.10.13"
  }
 },
 "nbformat": 4,
 "nbformat_minor": 5
}
